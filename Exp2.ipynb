{
 "cells": [
  {
   "cell_type": "code",
   "execution_count": 59,
   "metadata": {},
   "outputs": [
    {
     "data": {
      "text/plain": [
       "['au',\n",
       " 'aux',\n",
       " 'avec',\n",
       " 'ce',\n",
       " 'ces',\n",
       " 'dans',\n",
       " 'de',\n",
       " 'des',\n",
       " 'du',\n",
       " 'elle',\n",
       " 'en',\n",
       " 'et',\n",
       " 'eux',\n",
       " 'il',\n",
       " 'ils',\n",
       " 'je',\n",
       " 'la',\n",
       " 'le',\n",
       " 'les',\n",
       " 'leur',\n",
       " 'lui',\n",
       " 'ma',\n",
       " 'mais',\n",
       " 'me',\n",
       " 'même',\n",
       " 'mes',\n",
       " 'moi',\n",
       " 'mon',\n",
       " 'ne',\n",
       " 'nos',\n",
       " 'notre',\n",
       " 'nous',\n",
       " 'on',\n",
       " 'ou',\n",
       " 'par',\n",
       " 'pas',\n",
       " 'pour',\n",
       " 'qu',\n",
       " 'que',\n",
       " 'qui',\n",
       " 'sa',\n",
       " 'se',\n",
       " 'ses',\n",
       " 'son',\n",
       " 'sur',\n",
       " 'ta',\n",
       " 'te',\n",
       " 'tes',\n",
       " 'toi',\n",
       " 'ton',\n",
       " 'tu',\n",
       " 'un',\n",
       " 'une',\n",
       " 'vos',\n",
       " 'votre',\n",
       " 'vous',\n",
       " 'c',\n",
       " 'd',\n",
       " 'j',\n",
       " 'l',\n",
       " 'à',\n",
       " 'm',\n",
       " 'n',\n",
       " 's',\n",
       " 't',\n",
       " 'y',\n",
       " 'été',\n",
       " 'étée',\n",
       " 'étées',\n",
       " 'étés',\n",
       " 'étant',\n",
       " 'étante',\n",
       " 'étants',\n",
       " 'étantes',\n",
       " 'suis',\n",
       " 'es',\n",
       " 'est',\n",
       " 'sommes',\n",
       " 'êtes',\n",
       " 'sont',\n",
       " 'serai',\n",
       " 'seras',\n",
       " 'sera',\n",
       " 'serons',\n",
       " 'serez',\n",
       " 'seront',\n",
       " 'serais',\n",
       " 'serait',\n",
       " 'serions',\n",
       " 'seriez',\n",
       " 'seraient',\n",
       " 'étais',\n",
       " 'était',\n",
       " 'étions',\n",
       " 'étiez',\n",
       " 'étaient',\n",
       " 'fus',\n",
       " 'fut',\n",
       " 'fûmes',\n",
       " 'fûtes',\n",
       " 'furent',\n",
       " 'sois',\n",
       " 'soit',\n",
       " 'soyons',\n",
       " 'soyez',\n",
       " 'soient',\n",
       " 'fusse',\n",
       " 'fusses',\n",
       " 'fût',\n",
       " 'fussions',\n",
       " 'fussiez',\n",
       " 'fussent',\n",
       " 'ayant',\n",
       " 'ayante',\n",
       " 'ayantes',\n",
       " 'ayants',\n",
       " 'eu',\n",
       " 'eue',\n",
       " 'eues',\n",
       " 'eus',\n",
       " 'ai',\n",
       " 'as',\n",
       " 'avons',\n",
       " 'avez',\n",
       " 'ont',\n",
       " 'aurai',\n",
       " 'auras',\n",
       " 'aura',\n",
       " 'aurons',\n",
       " 'aurez',\n",
       " 'auront',\n",
       " 'aurais',\n",
       " 'aurait',\n",
       " 'aurions',\n",
       " 'auriez',\n",
       " 'auraient',\n",
       " 'avais',\n",
       " 'avait',\n",
       " 'avions',\n",
       " 'aviez',\n",
       " 'avaient',\n",
       " 'eut',\n",
       " 'eûmes',\n",
       " 'eûtes',\n",
       " 'eurent',\n",
       " 'aie',\n",
       " 'aies',\n",
       " 'ait',\n",
       " 'ayons',\n",
       " 'ayez',\n",
       " 'aient',\n",
       " 'eusse',\n",
       " 'eusses',\n",
       " 'eût',\n",
       " 'eussions',\n",
       " 'eussiez',\n",
       " 'eussent']"
      ]
     },
     "execution_count": 59,
     "metadata": {},
     "output_type": "execute_result"
    }
   ],
   "source": [
    "#TASK 1 - Lexicons\n",
    "# Lexicon -> collection of words/Phrases + Information (POS; tense Definitions..)\n",
    "# Lexicon has lexical entries -> each entry is Word/Phrase -> has a HeadWord(Lemma) + Information\n",
    "\n",
    "#1. Stopwords:\n",
    "from nltk.corpus import stopwords\n",
    "stopwords.words('french')"
   ]
  },
  {
   "cell_type": "code",
   "execution_count": 5,
   "metadata": {},
   "outputs": [
    {
     "data": {
      "text/plain": [
       "133737"
      ]
     },
     "execution_count": 5,
     "metadata": {},
     "output_type": "execute_result"
    }
   ],
   "source": [
    "#2. CMU WordList\n",
    "import nltk\n",
    "entries = nltk.corpus.cmudict.entries()\n",
    "len(entries)"
   ]
  },
  {
   "cell_type": "code",
   "execution_count": 6,
   "metadata": {},
   "outputs": [
    {
     "data": {
      "text/plain": [
       "[('a', ['AH0']),\n",
       " ('a.', ['EY1']),\n",
       " ('a', ['EY1']),\n",
       " ('a42128',\n",
       "  ['EY1',\n",
       "   'F',\n",
       "   'AO1',\n",
       "   'R',\n",
       "   'T',\n",
       "   'UW1',\n",
       "   'W',\n",
       "   'AH1',\n",
       "   'N',\n",
       "   'T',\n",
       "   'UW1',\n",
       "   'EY1',\n",
       "   'T']),\n",
       " ('aaa', ['T', 'R', 'IH2', 'P', 'AH0', 'L', 'EY1']),\n",
       " ('aaberg', ['AA1', 'B', 'ER0', 'G']),\n",
       " ('aachen', ['AA1', 'K', 'AH0', 'N']),\n",
       " ('aachener', ['AA1', 'K', 'AH0', 'N', 'ER0']),\n",
       " ('aaker', ['AA1', 'K', 'ER0']),\n",
       " ('aalseth', ['AA1', 'L', 'S', 'EH0', 'TH']),\n",
       " ('aamodt', ['AA1', 'M', 'AH0', 'T']),\n",
       " ('aancor', ['AA1', 'N', 'K', 'AO2', 'R']),\n",
       " ('aardema', ['AA0', 'R', 'D', 'EH1', 'M', 'AH0']),\n",
       " ('aardvark', ['AA1', 'R', 'D', 'V', 'AA2', 'R', 'K']),\n",
       " ('aaron', ['EH1', 'R', 'AH0', 'N']),\n",
       " (\"aaron's\", ['EH1', 'R', 'AH0', 'N', 'Z']),\n",
       " ('aarons', ['EH1', 'R', 'AH0', 'N', 'Z']),\n",
       " ('aaronson', ['EH1', 'R', 'AH0', 'N', 'S', 'AH0', 'N']),\n",
       " ('aaronson', ['AA1', 'R', 'AH0', 'N', 'S', 'AH0', 'N']),\n",
       " (\"aaronson's\", ['EH1', 'R', 'AH0', 'N', 'S', 'AH0', 'N', 'Z']),\n",
       " (\"aaronson's\", ['AA1', 'R', 'AH0', 'N', 'S', 'AH0', 'N', 'Z']),\n",
       " ('aarti', ['AA1', 'R', 'T', 'IY2']),\n",
       " ('aase', ['AA1', 'S']),\n",
       " ('aasen', ['AA1', 'S', 'AH0', 'N']),\n",
       " ('ab', ['AE1', 'B']),\n",
       " ('ab', ['EY1', 'B', 'IY1']),\n",
       " ('ababa', ['AH0', 'B', 'AA1', 'B', 'AH0']),\n",
       " ('ababa', ['AA1', 'B', 'AH0', 'B', 'AH0']),\n",
       " ('abacha', ['AE1', 'B', 'AH0', 'K', 'AH0']),\n",
       " ('aback', ['AH0', 'B', 'AE1', 'K']),\n",
       " ('abaco', ['AE1', 'B', 'AH0', 'K', 'OW2']),\n",
       " ('abacus', ['AE1', 'B', 'AH0', 'K', 'AH0', 'S']),\n",
       " ('abad', ['AH0', 'B', 'AA1', 'D']),\n",
       " ('abadaka', ['AH0', 'B', 'AE1', 'D', 'AH0', 'K', 'AH0']),\n",
       " ('abadi', ['AH0', 'B', 'AE1', 'D', 'IY0']),\n",
       " ('abadie', ['AH0', 'B', 'AE1', 'D', 'IY0']),\n",
       " ('abair', ['AH0', 'B', 'EH1', 'R']),\n",
       " ('abalkin', ['AH0', 'B', 'AA1', 'L', 'K', 'IH0', 'N']),\n",
       " ('abalone', ['AE2', 'B', 'AH0', 'L', 'OW1', 'N', 'IY0']),\n",
       " ('abalos', ['AA0', 'B', 'AA1', 'L', 'OW0', 'Z']),\n",
       " ('abandon', ['AH0', 'B', 'AE1', 'N', 'D', 'AH0', 'N']),\n",
       " ('abandoned', ['AH0', 'B', 'AE1', 'N', 'D', 'AH0', 'N', 'D']),\n",
       " ('abandoning', ['AH0', 'B', 'AE1', 'N', 'D', 'AH0', 'N', 'IH0', 'NG']),\n",
       " ('abandonment',\n",
       "  ['AH0', 'B', 'AE1', 'N', 'D', 'AH0', 'N', 'M', 'AH0', 'N', 'T']),\n",
       " ('abandonments',\n",
       "  ['AH0', 'B', 'AE1', 'N', 'D', 'AH0', 'N', 'M', 'AH0', 'N', 'T', 'S']),\n",
       " ('abandons', ['AH0', 'B', 'AE1', 'N', 'D', 'AH0', 'N', 'Z']),\n",
       " ('abanto', ['AH0', 'B', 'AE1', 'N', 'T', 'OW0']),\n",
       " ('abarca', ['AH0', 'B', 'AA1', 'R', 'K', 'AH0']),\n",
       " ('abare', ['AA0', 'B', 'AA1', 'R', 'IY0']),\n",
       " ('abascal', ['AE1', 'B', 'AH0', 'S', 'K', 'AH0', 'L'])]"
      ]
     },
     "execution_count": 6,
     "metadata": {},
     "output_type": "execute_result"
    }
   ],
   "source": [
    "entries[:50]"
   ]
  },
  {
   "cell_type": "code",
   "execution_count": 7,
   "metadata": {},
   "outputs": [
    {
     "data": {
      "text/plain": [
       "[Synset('room.n.01'),\n",
       " Synset('room.n.02'),\n",
       " Synset('room.n.03'),\n",
       " Synset('room.n.04'),\n",
       " Synset('board.v.02')]"
      ]
     },
     "execution_count": 7,
     "metadata": {},
     "output_type": "execute_result"
    }
   ],
   "source": [
    "#3. Wordnet\n",
    "from nltk.corpus import wordnet as wn\n",
    "wn.synsets('room')"
   ]
  },
  {
   "cell_type": "code",
   "execution_count": 8,
   "metadata": {},
   "outputs": [
    {
     "data": {
      "text/plain": [
       "[Synset('bank.n.01'),\n",
       " Synset('depository_financial_institution.n.01'),\n",
       " Synset('bank.n.03'),\n",
       " Synset('bank.n.04'),\n",
       " Synset('bank.n.05'),\n",
       " Synset('bank.n.06'),\n",
       " Synset('bank.n.07'),\n",
       " Synset('savings_bank.n.02'),\n",
       " Synset('bank.n.09'),\n",
       " Synset('bank.n.10'),\n",
       " Synset('bank.v.01'),\n",
       " Synset('bank.v.02'),\n",
       " Synset('bank.v.03'),\n",
       " Synset('bank.v.04'),\n",
       " Synset('bank.v.05'),\n",
       " Synset('deposit.v.02'),\n",
       " Synset('bank.v.07'),\n",
       " Synset('trust.v.01')]"
      ]
     },
     "execution_count": 8,
     "metadata": {},
     "output_type": "execute_result"
    }
   ],
   "source": [
    "wn.synsets('bank')"
   ]
  },
  {
   "cell_type": "code",
   "execution_count": 10,
   "metadata": {},
   "outputs": [
    {
     "data": {
      "text/plain": [
       "['depository_financial_institution',\n",
       " 'bank',\n",
       " 'banking_concern',\n",
       " 'banking_company']"
      ]
     },
     "execution_count": 10,
     "metadata": {},
     "output_type": "execute_result"
    }
   ],
   "source": [
    "wn.synset('bank.n.02').lemma_names()"
   ]
  },
  {
   "cell_type": "code",
   "execution_count": 11,
   "metadata": {},
   "outputs": [
    {
     "data": {
      "text/plain": [
       "[Synset('better.n.01'),\n",
       " Synset('bettor.n.01'),\n",
       " Synset('better.n.03'),\n",
       " Synset('better.n.04'),\n",
       " Synset('better.v.01'),\n",
       " Synset('better.v.02'),\n",
       " Synset('better.v.03'),\n",
       " Synset('better.a.01'),\n",
       " Synset('better.a.02'),\n",
       " Synset('better.s.03'),\n",
       " Synset('better.s.04'),\n",
       " Synset('good.a.01'),\n",
       " Synset('full.s.06'),\n",
       " Synset('good.a.03'),\n",
       " Synset('estimable.s.02'),\n",
       " Synset('beneficial.s.01'),\n",
       " Synset('good.s.06'),\n",
       " Synset('good.s.07'),\n",
       " Synset('adept.s.01'),\n",
       " Synset('good.s.09'),\n",
       " Synset('dear.s.02'),\n",
       " Synset('dependable.s.04'),\n",
       " Synset('good.s.12'),\n",
       " Synset('good.s.13'),\n",
       " Synset('effective.s.04'),\n",
       " Synset('good.s.15'),\n",
       " Synset('good.s.16'),\n",
       " Synset('good.s.17'),\n",
       " Synset('good.s.18'),\n",
       " Synset('good.s.19'),\n",
       " Synset('good.s.20'),\n",
       " Synset('good.s.21'),\n",
       " Synset('well.a.01'),\n",
       " Synset('good.s.13'),\n",
       " Synset('well.s.03'),\n",
       " Synset('better.r.01'),\n",
       " Synset('better.r.02'),\n",
       " Synset('well.r.01'),\n",
       " Synset('well.r.02'),\n",
       " Synset('well.r.03'),\n",
       " Synset('well.r.04'),\n",
       " Synset('well.r.05'),\n",
       " Synset('well.r.06'),\n",
       " Synset('well.r.07'),\n",
       " Synset('well.r.08'),\n",
       " Synset('well.r.09'),\n",
       " Synset('well.r.10'),\n",
       " Synset('well.r.11'),\n",
       " Synset('well.r.12'),\n",
       " Synset('well.r.13')]"
      ]
     },
     "execution_count": 11,
     "metadata": {},
     "output_type": "execute_result"
    }
   ],
   "source": [
    "wn.synsets('better')"
   ]
  },
  {
   "cell_type": "code",
   "execution_count": 12,
   "metadata": {},
   "outputs": [
    {
     "data": {
      "text/plain": [
       "['better']"
      ]
     },
     "execution_count": 12,
     "metadata": {},
     "output_type": "execute_result"
    }
   ],
   "source": [
    "wn.synset('better.n.01').lemma_names()"
   ]
  },
  {
   "cell_type": "code",
   "execution_count": 25,
   "metadata": {},
   "outputs": [],
   "source": [
    "# Task 2 - Simple Text Classifier\n",
    "def gender_features(word):\n",
    "    return {'last_letter':word[-1]}"
   ]
  },
  {
   "cell_type": "code",
   "execution_count": 26,
   "metadata": {},
   "outputs": [
    {
     "data": {
      "text/plain": [
       "{'last_letter': 't'}"
      ]
     },
     "execution_count": 26,
     "metadata": {},
     "output_type": "execute_result"
    }
   ],
   "source": [
    "gender_features('Jit')"
   ]
  },
  {
   "cell_type": "code",
   "execution_count": 33,
   "metadata": {},
   "outputs": [],
   "source": [
    "from nltk.corpus import names\n",
    "labeled_names = ([(name, 'male') for name in names.words('male.txt')]+\n",
    "[(name, 'female') for name in names.words('female.txt')])"
   ]
  },
  {
   "cell_type": "code",
   "execution_count": 32,
   "metadata": {},
   "outputs": [],
   "source": [
    "import random\n",
    "random.shuffle(labeled_names)"
   ]
  },
  {
   "cell_type": "code",
   "execution_count": 34,
   "metadata": {},
   "outputs": [],
   "source": [
    "featuresets = [(gender_features(n), gender) for (n, gender) in labeled_names]"
   ]
  },
  {
   "cell_type": "code",
   "execution_count": 35,
   "metadata": {},
   "outputs": [],
   "source": [
    "train_set, test_set = featuresets[1000:], featuresets[:1000]"
   ]
  },
  {
   "cell_type": "code",
   "execution_count": 36,
   "metadata": {},
   "outputs": [],
   "source": [
    "import nltk\n",
    "classifier = nltk.NaiveBayesClassifier.train(train_set)"
   ]
  },
  {
   "cell_type": "code",
   "execution_count": 37,
   "metadata": {},
   "outputs": [
    {
     "data": {
      "text/plain": [
       "'male'"
      ]
     },
     "execution_count": 37,
     "metadata": {},
     "output_type": "execute_result"
    }
   ],
   "source": [
    "classifier.classify(gender_features('Donald'))"
   ]
  },
  {
   "cell_type": "code",
   "execution_count": 40,
   "metadata": {},
   "outputs": [
    {
     "data": {
      "text/plain": [
       "'female'"
      ]
     },
     "execution_count": 40,
     "metadata": {},
     "output_type": "execute_result"
    }
   ],
   "source": [
    "classifier.classify(gender_features('Susan'))"
   ]
  },
  {
   "cell_type": "code",
   "execution_count": 41,
   "metadata": {},
   "outputs": [
    {
     "name": "stdout",
     "output_type": "stream",
     "text": [
      "0.461\n"
     ]
    }
   ],
   "source": [
    "print(nltk.classify.accuracy(classifier, test_set))"
   ]
  },
  {
   "cell_type": "code",
   "execution_count": 26,
   "metadata": {},
   "outputs": [],
   "source": [
    "# Tool names for positive and negative\n",
    "#TEXTBLOB\n",
    "#Jensen\n",
    "# CMU Sphinx"
   ]
  },
  {
   "cell_type": "code",
   "execution_count": 42,
   "metadata": {},
   "outputs": [],
   "source": [
    "# TASK 3 - Vectorisers & COSINE SIMILARITY\n",
    "# CountVectorizer - Learn\n",
    "# TfidfVectorizer\n",
    "# from sklearn.feature_extraction.text import TfidfVectorizer\n",
    "from sklearn.feature_extraction.text import CountVectorizer"
   ]
  },
  {
   "cell_type": "code",
   "execution_count": 44,
   "metadata": {},
   "outputs": [
    {
     "data": {
      "text/plain": [
       "CountVectorizer(analyzer='word', binary=True, decode_error='strict',\n",
       "                dtype=<class 'numpy.int64'>, encoding='utf-8', input='content',\n",
       "                lowercase=True, max_df=1.0, max_features=None, min_df=1,\n",
       "                ngram_range=(1, 1), preprocessor=None, stop_words=None,\n",
       "                strip_accents=None, token_pattern='(?u)\\\\b\\\\w\\\\w+\\\\b',\n",
       "                tokenizer=None, vocabulary=None)"
      ]
     },
     "execution_count": 44,
     "metadata": {},
     "output_type": "execute_result"
    }
   ],
   "source": [
    "# fit method vectorizes all the unique words in the corpus\n",
    "vect = CountVectorizer(binary = True)\n",
    "corpus = [\"Tessaract is good optical character recognition engine  \", \"optical character recognition is significant \"]\n",
    "vect.fit(corpus)"
   ]
  },
  {
   "cell_type": "code",
   "execution_count": 45,
   "metadata": {},
   "outputs": [],
   "source": [
    "vocabul = vect.vocabulary_"
   ]
  },
  {
   "cell_type": "code",
   "execution_count": 47,
   "metadata": {},
   "outputs": [
    {
     "name": "stdout",
     "output_type": "stream",
     "text": [
      "character:0\n",
      "engine:1\n",
      "good:2\n",
      "is:3\n",
      "optical:4\n",
      "recognition:5\n",
      "significant:6\n",
      "tessaract:7\n"
     ]
    }
   ],
   "source": [
    "for key in sorted(vocabul.keys()):\n",
    "    print(\"{}:{}\".format(key, vocabul[key]))"
   ]
  },
  {
   "cell_type": "code",
   "execution_count": 33,
   "metadata": {},
   "outputs": [],
   "source": [
    "# do plagarism task using vectorization"
   ]
  },
  {
   "cell_type": "code",
   "execution_count": 54,
   "metadata": {},
   "outputs": [
    {
     "name": "stdout",
     "output_type": "stream",
     "text": [
      "[[0 0 0 1 0 0 0 0]]\n"
     ]
    }
   ],
   "source": [
    "print(vect.transform([\"Following is the list of sentences tokenized from the sample review\"]).toarray())"
   ]
  },
  {
   "cell_type": "code",
   "execution_count": 55,
   "metadata": {},
   "outputs": [
    {
     "name": "stdout",
     "output_type": "stream",
     "text": [
      "[[1 1 1 1 1 1 0 1]\n",
      " [1 0 0 1 1 1 1 0]]\n"
     ]
    }
   ],
   "source": [
    "print(vect.transform(corpus).toarray())"
   ]
  },
  {
   "cell_type": "code",
   "execution_count": 56,
   "metadata": {},
   "outputs": [],
   "source": [
    "from sklearn.metrics.pairwise import cosine_similarity"
   ]
  },
  {
   "cell_type": "code",
   "execution_count": 57,
   "metadata": {},
   "outputs": [],
   "source": [
    "similarity = cosine_similarity(vect.transform([\"Google Cloud Vision is a character recognition engine\"]).toarray(), \n",
    "                               vect.transform([\"Following is the list of sentences tokenized from the sample review\"]).toarray())"
   ]
  },
  {
   "cell_type": "code",
   "execution_count": 58,
   "metadata": {},
   "outputs": [
    {
     "name": "stdout",
     "output_type": "stream",
     "text": [
      "0.5\n"
     ]
    }
   ],
   "source": [
    "print(similarity[0][0])"
   ]
  },
  {
   "cell_type": "code",
   "execution_count": 1,
   "metadata": {},
   "outputs": [],
   "source": [
    "#IMPORT\n",
    "import nltk \n",
    "from nltk.stem import PorterStemmer \n",
    "from nltk.corpus import brown"
   ]
  },
  {
   "cell_type": "code",
   "execution_count": 3,
   "metadata": {},
   "outputs": [
    {
     "data": {
      "text/plain": [
       "['ca01',\n",
       " 'ca02',\n",
       " 'ca03',\n",
       " 'ca04',\n",
       " 'ca05',\n",
       " 'ca06',\n",
       " 'ca07',\n",
       " 'ca08',\n",
       " 'ca09',\n",
       " 'ca10',\n",
       " 'ca11',\n",
       " 'ca12',\n",
       " 'ca13',\n",
       " 'ca14',\n",
       " 'ca15',\n",
       " 'ca16',\n",
       " 'ca17',\n",
       " 'ca18',\n",
       " 'ca19',\n",
       " 'ca20']"
      ]
     },
     "execution_count": 3,
     "metadata": {},
     "output_type": "execute_result"
    }
   ],
   "source": [
    "#FIELDS IN BROWN CORPUS\n",
    "brown.fileids()[:20]"
   ]
  },
  {
   "cell_type": "code",
   "execution_count": 5,
   "metadata": {},
   "outputs": [],
   "source": [
    "#we are taking reviews from brown corpus \n",
    "text_b = brown.words('ca20')"
   ]
  },
  {
   "cell_type": "code",
   "execution_count": 6,
   "metadata": {},
   "outputs": [
    {
     "data": {
      "text/plain": [
       "2317"
      ]
     },
     "execution_count": 6,
     "metadata": {},
     "output_type": "execute_result"
    }
   ],
   "source": [
    "#length of our text file \n",
    "len(text_b)"
   ]
  },
  {
   "cell_type": "code",
   "execution_count": 7,
   "metadata": {},
   "outputs": [
    {
     "name": "stdout",
     "output_type": "stream",
     "text": [
      "['London', ',', 'Feb.', '9', '--', 'Vital', 'secrets', ...]\n"
     ]
    }
   ],
   "source": [
    "print(text_b)"
   ]
  },
  {
   "cell_type": "code",
   "execution_count": 9,
   "metadata": {},
   "outputs": [
    {
     "data": {
      "text/plain": [
       "FreqDist({',': 169, 'the': 139, '.': 85, 'and': 65, 'of': 60, 'a': 50, 'in': 49, 'to': 42, 'was': 32, 'for': 27, ...})"
      ]
     },
     "execution_count": 9,
     "metadata": {},
     "output_type": "execute_result"
    }
   ],
   "source": [
    "#frequency distribution \n",
    "freqdist = nltk.FreqDist(w.lower() for w in text_b)\n",
    "\n",
    "freqdist"
   ]
  },
  {
   "cell_type": "code",
   "execution_count": 10,
   "metadata": {},
   "outputs": [],
   "source": [
    "#conditional frequency distribution \n",
    "from nltk.probability import ConditionalFreqDist \n",
    "fcd=ConditionalFreqDist((len(word),word) for word in text_b) \n"
   ]
  },
  {
   "cell_type": "code",
   "execution_count": 11,
   "metadata": {},
   "outputs": [
    {
     "data": {
      "text/plain": [
       "FreqDist({'of': 59, 'in': 44, 'to': 42, 'on': 17, '``': 16, \"''\": 16, 'he': 14, 'at': 11, 'by': 9, 'as': 8, ...})"
      ]
     },
     "execution_count": 11,
     "metadata": {},
     "output_type": "execute_result"
    }
   ],
   "source": [
    "fcd[2]"
   ]
  },
  {
   "cell_type": "code",
   "execution_count": 12,
   "metadata": {},
   "outputs": [
    {
     "data": {
      "text/plain": [
       "FreqDist({'the': 119, 'and': 65, 'was': 32, 'for': 27, 'The': 20, 'her': 12, 'his': 10, 'had': 8, 'two': 8, 'who': 7, ...})"
      ]
     },
     "execution_count": 12,
     "metadata": {},
     "output_type": "execute_result"
    }
   ],
   "source": [
    "fcd[3]"
   ]
  },
  {
   "cell_type": "code",
   "execution_count": 15,
   "metadata": {},
   "outputs": [
    {
     "name": "stdout",
     "output_type": "stream",
     "text": [
      "[\"London , Feb. 9 -- Vital secrets of Britain's first atomic submarine , the Dreadnought , and , by implication , of the entire United States navy's still-building nuclear sub fleet , were stolen by a London-based soviet spy ring , secret service agents testified today .\", 'The Dreadnought was built on designs supplied by the United States in 1959 and was launched last year .', 'It is a killer sub -- that is , a hunter of enemy subs .', \"It has a hull patterned on that of the United States navy's Nautilus , the world's first atomic submarine .\", 'Its power unit , however , was derived from the reactor of the more modern American nuclear submarine Skipjack .', 'Five held for trial The announcement that the secrets of the Dreadnought had been stolen was made in Bow St. police court here at the end of a three day hearing .', 'A full trial was ordered for : Two British civil servants , Miss Ethel Gee , 46 , and her newly devoted friend , Harry Houghton , 55 , and divorced .', 'They are accused of whisking secrets out of naval strongrooms over which they kept guard .', 'Gordon A. Lonsdale , 37 , a mystery man presumed to be Russian although he carries a Canadian passport .', 'When arrested , he had the submarine secrets on a roll of candid camera film as well as anti-submarine secrets in Christmas gift wrapping , it was testified .', 'Flashed to Moscow A shadowy couple who call themselves Peter Kroger , bookseller , and wife , Joyce .', '( In Washington , the Federal Bureau of Investigation identified the Krogers as Morris and Lola Cohen , an American couple formerly of New York City ) .', 'In their suburban cottage the crown charges , the Krogers received secrets from the mystery man , usually on the first Saturday evening of each month , and spent much of the week-end getting the secrets off to Moscow , either on a powerful transmitter buried under the kitchen floor or as dots posted over period marks in used books .', 'Each dot on magnification resumed its original condition as a drawing , a printed page , or a manuscript .', 'All five pleaded innocent .', 'Only Miss Gee asked for bail .', 'Her young British lawyer , James Dunlop , pleaded that she was sorely needed at her Portland home by her widowed mother , 80 , her maiden aunt , also 80 and bedridden for 20 years , and her uncle , 76 , who once ran a candy shop .', \"Refuses to grant bail `` I am not prepared to grant bail to any of them '' , said the magistrate , K.J.P.\", 'Baraclough .', 'The trial will be held , probably the first week of March , in the famous Old Bailey central criminal court where Klaus Fuchs , the naturalized British German born scientist who succeeded in giving American and British atomic bomb secrets to Russia and thereby changed world history during the 1950s , was sentenced to 14 years in prison .', 'Fourteen years is the maximum penalty now faced by the new five , who may have altered history in the 1960s .', 'Fuchs , after nine and a half years , was released , being given time off for good behavior .', 'He promptly went to communist East Germany .', 'The magistrate tonight refused to return to the five $29,000 in American and British currency , mostly $20 bills , and in British government bonds and stocks .', \"`` This is Russian money '' , said Mervin Griffith-Jones for the attorney general's office .\", \"He asserted that the Krogers were the bankers for Moscow , Lonsdale the Red paymaster , and the two civil servants the recipients for selling their country's secrets .\", \"`` Of highest value '' The fact that secrets of the Dreadnought , and thereby of the American undersea fleet , were involved in the spy case had been hinted at earlier .\", \"But just before luncheon today the fact was announced grimly by the British navy's chief adviser to the cabinet on underwater warfare , Capt.\", 'George Symonds .', 'He said that drawings of the Dreadnought and printed details about the ship were found reproduced in an undeveloped roll of film taken from Lonsdale when he was arrested with the two civil servants outside the Old Vic theater Saturday afternoon , Jan. 7 .', 'The information , he said , would have been of the highest value to a potential enemy .', 'Court cleared Just how many sub secrets were being handed over when the ring , watched for six months , was broken remained untold .', 'The British defending lawyers , who today increased from three to four , demanded to know if they could make the information involved seem of little value to a jury , the chances of their clients would improve .', 'So in the name of justice the magistrate cleared the court of all except officials to allow the captain to elaborate for almost an hour .', 'Almost any information about the Dreadnought would also reveal secrets about the American underwater fleet .', 'Britain began designing the ship in 1956 but got nowhere until the American government decided to end a ban on sharing military secrets with Britain that had been imposed after Fuchs blabbed .', 'The United States offered to supply a complete set of propelling equipment like that used in the Skipjack .', 'With the machinery went a complete design for the hull .', 'The Skipjack was a second generation atomic sub , much advanced on the Nautilus and the other four which preceded it .', \"Navy's future involved `` Much of the navy's future depends upon her '' , an American naval announcement said on the Skipjack's first arrival in British waters in August , 1959 , for exhibition to selected high officers at Portland underwater research station .\", 'It was there that the two accused civil servants were at work .', \"`` Her basic hull form ( a teardrop ) and her nuclear power plant will be used for almost all new submarines , including the potent Polaris missile submarines '' , the statement went on .\", 'The atom reactor , water cooled , was the result of almost a decade of research at the naval reactors branch of the atomic energy commission and Westinghouse Electric Corp. .', 'Thru development , the reactor and its steam turbines had been reduced greatly in size , and also in complexity , allowing a single propeller to be used , the navy said .', 'The hull was also a result of almost a decade of work .', 'It was first tried out on a conventional submarine , the Albacore , in 1954 .', 'The Skipjack became the fastest submarine ever built .', 'Reputedly it could outrun , underwater , the fastest destroyers .', 'It could , reputedly , go 70,000 miles without refueling and stay down more than a month .', 'It was of the hunter-killer type , designed to seek out ships and other submarines with its most advanced gear and destroy them with torpedoes .', \"The navy captain disclosed also that a list of questions found in Miss Gee's purse would , if completed and handed back , have given the Kremlin a complete picture `` of our current anti-submarine effort and would have shown what we are doing in research and development for the future '' .\", 'Interested in detector The spy ring also was particularly interested in ASDIC , the underwater equipment for detecting submarines , it was testified .', 'Range was a vital detail .', 'Designs of parts were sought .', \"Six radiomen told how , twice on two days after the ring was nabbed , a transmitter near Moscow was heard calling , using signals , times and wavelengths specified on codes found hidden in cigaret lighters in Lonsdale's apartment and the Krogers' house and also fastened to the transmitter lid .\", 'Oddly , the calls were still heard 11 days after the five were arrested .', \"The charge that the federal indictment of three Chicago narcotics detail detectives `` is the product of rumor , combined with malice , and individual enmity '' on the part of the federal narcotics unit here was made yesterday in their conspiracy trial before Judge Joseph Sam Perry in federal District court .\", 'The three -- Miles J. Cooperman , Sheldon Teller , and Richard Austin -- and eight other defendants are charged in six indictments with conspiracy to violate federal narcotic laws .', \"In his opening statement to a jury of eight women and four men , Bernard H. Sokol , attorney for the detectives , said that evidence would show that his clients were `` entirely innocent '' . '\", \"had to know peddlers ' `` When they became members of the city police narcotics unit '' , Sokol said , `` they were told they would have to get to know certain areas of Chicago in which narcotics were sold and they would have to get to know people in the narcotics racket .\", \"They , on occasion , posed as addicts and peddlers '' .\", \"Although federal and city narcotic agents sometimes worked together , Sokol continued , rivalries developed when they were `` aiming at the same criminals '' .\", \"This , he added , brought about `` petty jealousies '' and `` petty personal grievances '' .\", \"`` In the same five year period that the United States says they ( the detectives ) were engaged in this conspiracy '' , Sokol continued , `` these three young men received a total of 26 creditable mentions and many special compensations , and were nominated for the Lambert Tree award and the mayor's medal '' .\", 'No comments by U.S.', 'In opening , D. Arthur Connelly , assistant United States attorney , read the indictment , but made no comments .', \"Attorneys for the eight other defendants said only that there was no proof of their clients' guilt .\", 'Cooperman and Teller are accused of selling $4,700 worth of heroin to a convicted narcotics peddler , Otis Sears , 45 , of 6934 Indiana Av.', '.', 'Among other acts , Teller and Austin are accused of paying $800 to Sears .', 'The first witness , Moses Winston Mardis , 5835 Michigan Av.', ', a real estate agent and former bail bondsman , took the stand after opening statements had been made .', 'But court adjourned after he testified he introduced James White and Jeremiah Hope Pullings , two of the defendants , and also introduced Pullings to Jessy Maroy , a man mentioned in the indictment but not indicted .', 'Buaford Robinson , 23 , of 7026 Stewart Av.', ', a CTA bus driver , was slugged and robbed last night by a group of youths at 51st Street and South Park Way .', \"Robinson was treated at a physician's office for a cut over his left eyebrow and a possible sprained knee .\", 'His losses included his money bag , containing $40 to $50 and his $214 paycheck .', \"Robinson told Policemen James Jones and Morgan Lloyd of the Wabash Avenue district that 10 youths boarded his south bound express bus in front of Dunbar Vocational High School , 30th Street and South Park Way , and began `` skylarking '' .\", 'When 51st Street was reached , Robinson related , he stopped the bus and told the youths he was going to call the CTA supervisor .', 'As he left the bus with his money bag , Robinson added , the largest youth accosted him , a quarrel ensued , and the youth knocked him down .', 'Then the youths fled with his money .', 'Mrs. Blanche Dunkel , 60 , who has spent 25 years in the Dwight reformatory for women for the murder in 1935 of her son-in-law , Ervin Lang , then 28 , appealed for a parole at a hearing yesterday before two Illinois pardon and parole board members , John M. Bookwalter and Joseph Carpentier .', 'She had been sentenced to 180 years in prison , but former Gov.', 'Stratton commuted her term to 75 years , making her eligible for parole , as one of his last acts in office .', 'Mrs. Dunkel admitted the slaying and said that the son-in-law became her lover after the death of her daughter in 1934 .', 'It was when he attempted to end the relationship that the murder took place .', 'The son of a wealthy Evanston executive was fined $100 yesterday and forbidden to drive for 60 days for leading an Evanston policeman on a high speed chase over icy Evanston and Wilmette streets Jan. 20 .', 'The defendant , William L. Stickney 3 , 23 , of 3211 Park pl.', ', Evanston , who pleaded guilty to reckless driving , also was ordered by Judge James Corcoran to attend the Evanston traffic school each Tuesday night for one month .', 'Stickney is a salesman for Plee-Zing , Inc. , 2544 Green Bay Rd.', ', Evanston , a food brokerage and grocery chain firm , of which his father , William L. Jr. , is president .', 'Patrolman James F. Simms said he started in pursuit when he saw young Stickney speeding north in Stewart Avenue at Central Street .', 'At Jenks Street , Simms said , the car skidded completely around , just missed two parked cars , and sped east in Jenks .', 'The car spun around again , Simms said , before Stickney could turn north in Prairie Avenue , and then violated two stop lights as he traveled north into Wilmette in Prairie .']\n"
     ]
    }
   ],
   "source": [
    "#1)converting list to string and tokenizing \n",
    "from nltk.tokenize import sent_tokenize\n",
    "#converting list to single string str1\n",
    "string=\" \".join(text_b)\n",
    "tokenized=sent_tokenize(string)\n",
    "print(tokenized)"
   ]
  },
  {
   "cell_type": "code",
   "execution_count": 14,
   "metadata": {},
   "outputs": [
    {
     "name": "stdout",
     "output_type": "stream",
     "text": [
      "['London', ',', 'Feb.', '9', '--', 'Vital', 'secrets', 'of', 'Britain', \"'s\", 'first', 'atomic', 'submarine', ',', 'the', 'Dreadnought', ',', 'and', ',', 'by', 'implication', ',', 'of', 'the', 'entire', 'United', 'States', 'navy', \"'s\", 'still-building', 'nuclear', 'sub', 'fleet', ',', 'were', 'stolen', 'by', 'a', 'London-based', 'soviet', 'spy', 'ring', ',', 'secret', 'service', 'agents', 'testified', 'today', '.', 'The', 'Dreadnought', 'was', 'built', 'on', 'designs', 'supplied', 'by', 'the', 'United', 'States', 'in', '1959', 'and', 'was', 'launched', 'last', 'year', '.', 'It', 'is', 'a', 'killer', 'sub', '--', 'that', 'is', ',', 'a', 'hunter', 'of', 'enemy', 'subs', '.', 'It', 'has', 'a', 'hull', 'patterned', 'on', 'that', 'of', 'the', 'United', 'States', 'navy', \"'s\", 'Nautilus', ',', 'the', 'world', \"'s\", 'first', 'atomic', 'submarine', '.', 'Its', 'power', 'unit', ',', 'however', ',', 'was', 'derived', 'from', 'the', 'reactor', 'of', 'the', 'more', 'modern', 'American', 'nuclear', 'submarine', 'Skipjack', '.', 'Five', 'held', 'for', 'trial', 'The', 'announcement', 'that', 'the', 'secrets', 'of', 'the', 'Dreadnought', 'had', 'been', 'stolen', 'was', 'made', 'in', 'Bow', 'St.', 'police', 'court', 'here', 'at', 'the', 'end', 'of', 'a', 'three', 'day', 'hearing', '.', 'A', 'full', 'trial', 'was', 'ordered', 'for', ':', 'Two', 'British', 'civil', 'servants', ',', 'Miss', 'Ethel', 'Gee', ',', '46', ',', 'and', 'her', 'newly', 'devoted', 'friend', ',', 'Harry', 'Houghton', ',', '55', ',', 'and', 'divorced', '.', 'They', 'are', 'accused', 'of', 'whisking', 'secrets', 'out', 'of', 'naval', 'strongrooms', 'over', 'which', 'they', 'kept', 'guard', '.', 'Gordon', 'A.', 'Lonsdale', ',', '37', ',', 'a', 'mystery', 'man', 'presumed', 'to', 'be', 'Russian', 'although', 'he', 'carries', 'a', 'Canadian', 'passport', '.', 'When', 'arrested', ',', 'he', 'had', 'the', 'submarine', 'secrets', 'on', 'a', 'roll', 'of', 'candid', 'camera', 'film', 'as', 'well', 'as', 'anti-submarine', 'secrets', 'in', 'Christmas', 'gift', 'wrapping', ',', 'it', 'was', 'testified', '.', 'Flashed', 'to', 'Moscow', 'A', 'shadowy', 'couple', 'who', 'call', 'themselves', 'Peter', 'Kroger', ',', 'bookseller', ',', 'and', 'wife', ',', 'Joyce', '.', '(', 'In', 'Washington', ',', 'the', 'Federal', 'Bureau', 'of', 'Investigation', 'identified', 'the', 'Krogers', 'as', 'Morris', 'and', 'Lola', 'Cohen', ',', 'an', 'American', 'couple', 'formerly', 'of', 'New', 'York', 'City', ')', '.', 'In', 'their', 'suburban', 'cottage', 'the', 'crown', 'charges', ',', 'the', 'Krogers', 'received', 'secrets', 'from', 'the', 'mystery', 'man', ',', 'usually', 'on', 'the', 'first', 'Saturday', 'evening', 'of', 'each', 'month', ',', 'and', 'spent', 'much', 'of', 'the', 'week-end', 'getting', 'the', 'secrets', 'off', 'to', 'Moscow', ',', 'either', 'on', 'a', 'powerful', 'transmitter', 'buried', 'under', 'the', 'kitchen', 'floor', 'or', 'as', 'dots', 'posted', 'over', 'period', 'marks', 'in', 'used', 'books', '.', 'Each', 'dot', 'on', 'magnification', 'resumed', 'its', 'original', 'condition', 'as', 'a', 'drawing', ',', 'a', 'printed', 'page', ',', 'or', 'a', 'manuscript', '.', 'All', 'five', 'pleaded', 'innocent', '.', 'Only', 'Miss', 'Gee', 'asked', 'for', 'bail', '.', 'Her', 'young', 'British', 'lawyer', ',', 'James', 'Dunlop', ',', 'pleaded', 'that', 'she', 'was', 'sorely', 'needed', 'at', 'her', 'Portland', 'home', 'by', 'her', 'widowed', 'mother', ',', '80', ',', 'her', 'maiden', 'aunt', ',', 'also', '80', 'and', 'bedridden', 'for', '20', 'years', ',', 'and', 'her', 'uncle', ',', '76', ',', 'who', 'once', 'ran', 'a', 'candy', 'shop', '.', 'Refuses', 'to', 'grant', 'bail', '``', 'I', 'am', 'not', 'prepared', 'to', 'grant', 'bail', 'to', 'any', 'of', 'them', '``', ',', 'said', 'the', 'magistrate', ',', 'K.J.P', '.', 'Baraclough', '.', 'The', 'trial', 'will', 'be', 'held', ',', 'probably', 'the', 'first', 'week', 'of', 'March', ',', 'in', 'the', 'famous', 'Old', 'Bailey', 'central', 'criminal', 'court', 'where', 'Klaus', 'Fuchs', ',', 'the', 'naturalized', 'British', 'German', 'born', 'scientist', 'who', 'succeeded', 'in', 'giving', 'American', 'and', 'British', 'atomic', 'bomb', 'secrets', 'to', 'Russia', 'and', 'thereby', 'changed', 'world', 'history', 'during', 'the', '1950s', ',', 'was', 'sentenced', 'to', '14', 'years', 'in', 'prison', '.', 'Fourteen', 'years', 'is', 'the', 'maximum', 'penalty', 'now', 'faced', 'by', 'the', 'new', 'five', ',', 'who', 'may', 'have', 'altered', 'history', 'in', 'the', '1960s', '.', 'Fuchs', ',', 'after', 'nine', 'and', 'a', 'half', 'years', ',', 'was', 'released', ',', 'being', 'given', 'time', 'off', 'for', 'good', 'behavior', '.', 'He', 'promptly', 'went', 'to', 'communist', 'East', 'Germany', '.', 'The', 'magistrate', 'tonight', 'refused', 'to', 'return', 'to', 'the', 'five', '$', '29,000', 'in', 'American', 'and', 'British', 'currency', ',', 'mostly', '$', '20', 'bills', ',', 'and', 'in', 'British', 'government', 'bonds', 'and', 'stocks', '.', '``', 'This', 'is', 'Russian', 'money', '``', ',', 'said', 'Mervin', 'Griffith-Jones', 'for', 'the', 'attorney', 'general', \"'s\", 'office', '.', 'He', 'asserted', 'that', 'the', 'Krogers', 'were', 'the', 'bankers', 'for', 'Moscow', ',', 'Lonsdale', 'the', 'Red', 'paymaster', ',', 'and', 'the', 'two', 'civil', 'servants', 'the', 'recipients', 'for', 'selling', 'their', 'country', \"'s\", 'secrets', '.', '``', 'Of', 'highest', 'value', '``', 'The', 'fact', 'that', 'secrets', 'of', 'the', 'Dreadnought', ',', 'and', 'thereby', 'of', 'the', 'American', 'undersea', 'fleet', ',', 'were', 'involved', 'in', 'the', 'spy', 'case', 'had', 'been', 'hinted', 'at', 'earlier', '.', 'But', 'just', 'before', 'luncheon', 'today', 'the', 'fact', 'was', 'announced', 'grimly', 'by', 'the', 'British', 'navy', \"'s\", 'chief', 'adviser', 'to', 'the', 'cabinet', 'on', 'underwater', 'warfare', ',', 'Capt', '.', 'George', 'Symonds', '.', 'He', 'said', 'that', 'drawings', 'of', 'the', 'Dreadnought', 'and', 'printed', 'details', 'about', 'the', 'ship', 'were', 'found', 'reproduced', 'in', 'an', 'undeveloped', 'roll', 'of', 'film', 'taken', 'from', 'Lonsdale', 'when', 'he', 'was', 'arrested', 'with', 'the', 'two', 'civil', 'servants', 'outside', 'the', 'Old', 'Vic', 'theater', 'Saturday', 'afternoon', ',', 'Jan.', '7', '.', 'The', 'information', ',', 'he', 'said', ',', 'would', 'have', 'been', 'of', 'the', 'highest', 'value', 'to', 'a', 'potential', 'enemy', '.', 'Court', 'cleared', 'Just', 'how', 'many', 'sub', 'secrets', 'were', 'being', 'handed', 'over', 'when', 'the', 'ring', ',', 'watched', 'for', 'six', 'months', ',', 'was', 'broken', 'remained', 'untold', '.', 'The', 'British', 'defending', 'lawyers', ',', 'who', 'today', 'increased', 'from', 'three', 'to', 'four', ',', 'demanded', 'to', 'know', 'if', 'they', 'could', 'make', 'the', 'information', 'involved', 'seem', 'of', 'little', 'value', 'to', 'a', 'jury', ',', 'the', 'chances', 'of', 'their', 'clients', 'would', 'improve', '.', 'So', 'in', 'the', 'name', 'of', 'justice', 'the', 'magistrate', 'cleared', 'the', 'court', 'of', 'all', 'except', 'officials', 'to', 'allow', 'the', 'captain', 'to', 'elaborate', 'for', 'almost', 'an', 'hour', '.', 'Almost', 'any', 'information', 'about', 'the', 'Dreadnought', 'would', 'also', 'reveal', 'secrets', 'about', 'the', 'American', 'underwater', 'fleet', '.', 'Britain', 'began', 'designing', 'the', 'ship', 'in', '1956', 'but', 'got', 'nowhere', 'until', 'the', 'American', 'government', 'decided', 'to', 'end', 'a', 'ban', 'on', 'sharing', 'military', 'secrets', 'with', 'Britain', 'that', 'had', 'been', 'imposed', 'after', 'Fuchs', 'blabbed', '.', 'The', 'United', 'States', 'offered', 'to', 'supply', 'a', 'complete', 'set', 'of', 'propelling', 'equipment', 'like', 'that', 'used', 'in', 'the', 'Skipjack', '.', 'With', 'the', 'machinery', 'went', 'a', 'complete', 'design', 'for', 'the', 'hull', '.', 'The', 'Skipjack', 'was', 'a', 'second', 'generation', 'atomic', 'sub', ',', 'much', 'advanced', 'on', 'the', 'Nautilus', 'and', 'the', 'other', 'four', 'which', 'preceded', 'it', '.', 'Navy', \"'s\", 'future', 'involved', '``', 'Much', 'of', 'the', 'navy', \"'s\", 'future', 'depends', 'upon', 'her', '``', ',', 'an', 'American', 'naval', 'announcement', 'said', 'on', 'the', 'Skipjack', \"'s\", 'first', 'arrival', 'in', 'British', 'waters', 'in', 'August', ',', '1959', ',', 'for', 'exhibition', 'to', 'selected', 'high', 'officers', 'at', 'Portland', 'underwater', 'research', 'station', '.', 'It', 'was', 'there', 'that', 'the', 'two', 'accused', 'civil', 'servants', 'were', 'at', 'work', '.', '``', 'Her', 'basic', 'hull', 'form', '(', 'a', 'teardrop', ')', 'and', 'her', 'nuclear', 'power', 'plant', 'will', 'be', 'used', 'for', 'almost', 'all', 'new', 'submarines', ',', 'including', 'the', 'potent', 'Polaris', 'missile', 'submarines', '``', ',', 'the', 'statement', 'went', 'on', '.', 'The', 'atom', 'reactor', ',', 'water', 'cooled', ',', 'was', 'the', 'result', 'of', 'almost', 'a', 'decade', 'of', 'research', 'at', 'the', 'naval', 'reactors', 'branch', 'of', 'the', 'atomic', 'energy', 'commission', 'and', 'Westinghouse', 'Electric', 'Corp.', '.', 'Thru', 'development', ',', 'the', 'reactor', 'and', 'its', 'steam', 'turbines', 'had', 'been', 'reduced', 'greatly', 'in', 'size', ',', 'and', 'also', 'in', 'complexity', ',', 'allowing', 'a', 'single', 'propeller', 'to', 'be', 'used', ',', 'the', 'navy', 'said', '.', 'The', 'hull', 'was', 'also', 'a', 'result', 'of', 'almost', 'a', 'decade', 'of', 'work', '.', 'It', 'was', 'first', 'tried', 'out', 'on', 'a', 'conventional', 'submarine', ',', 'the', 'Albacore', ',', 'in', '1954', '.', 'The', 'Skipjack', 'became', 'the', 'fastest', 'submarine', 'ever', 'built', '.', 'Reputedly', 'it', 'could', 'outrun', ',', 'underwater', ',', 'the', 'fastest', 'destroyers', '.', 'It', 'could', ',', 'reputedly', ',', 'go', '70,000', 'miles', 'without', 'refueling', 'and', 'stay', 'down', 'more', 'than', 'a', 'month', '.', 'It', 'was', 'of', 'the', 'hunter-killer', 'type', ',', 'designed', 'to', 'seek', 'out', 'ships', 'and', 'other', 'submarines', 'with', 'its', 'most', 'advanced', 'gear', 'and', 'destroy', 'them', 'with', 'torpedoes', '.', 'The', 'navy', 'captain', 'disclosed', 'also', 'that', 'a', 'list', 'of', 'questions', 'found', 'in', 'Miss', 'Gee', \"'s\", 'purse', 'would', ',', 'if', 'completed', 'and', 'handed', 'back', ',', 'have', 'given', 'the', 'Kremlin', 'a', 'complete', 'picture', '``', 'of', 'our', 'current', 'anti-submarine', 'effort', 'and', 'would', 'have', 'shown', 'what', 'we', 'are', 'doing', 'in', 'research', 'and', 'development', 'for', 'the', 'future', '``', '.', 'Interested', 'in', 'detector', 'The', 'spy', 'ring', 'also', 'was', 'particularly', 'interested', 'in', 'ASDIC', ',', 'the', 'underwater', 'equipment', 'for', 'detecting', 'submarines', ',', 'it', 'was', 'testified', '.', 'Range', 'was', 'a', 'vital', 'detail', '.', 'Designs', 'of', 'parts', 'were', 'sought', '.', 'Six', 'radiomen', 'told', 'how', ',', 'twice', 'on', 'two', 'days', 'after', 'the', 'ring', 'was', 'nabbed', ',', 'a', 'transmitter', 'near', 'Moscow', 'was', 'heard', 'calling', ',', 'using', 'signals', ',', 'times', 'and', 'wavelengths', 'specified', 'on', 'codes', 'found', 'hidden', 'in', 'cigaret', 'lighters', 'in', 'Lonsdale', \"'s\", 'apartment', 'and', 'the', 'Krogers', \"'\", 'house', 'and', 'also', 'fastened', 'to', 'the', 'transmitter', 'lid', '.', 'Oddly', ',', 'the', 'calls', 'were', 'still', 'heard', '11', 'days', 'after', 'the', 'five', 'were', 'arrested', '.', 'The', 'charge', 'that', 'the', 'federal', 'indictment', 'of', 'three', 'Chicago', 'narcotics', 'detail', 'detectives', '``', 'is', 'the', 'product', 'of', 'rumor', ',', 'combined', 'with', 'malice', ',', 'and', 'individual', 'enmity', '``', 'on', 'the', 'part', 'of', 'the', 'federal', 'narcotics', 'unit', 'here', 'was', 'made', 'yesterday', 'in', 'their', 'conspiracy', 'trial', 'before', 'Judge', 'Joseph', 'Sam', 'Perry', 'in', 'federal', 'District', 'court', '.', 'The', 'three', '--', 'Miles', 'J.', 'Cooperman', ',', 'Sheldon', 'Teller', ',', 'and', 'Richard', 'Austin', '--', 'and', 'eight', 'other', 'defendants', 'are', 'charged', 'in', 'six', 'indictments', 'with', 'conspiracy', 'to', 'violate', 'federal', 'narcotic', 'laws', '.', 'In', 'his', 'opening', 'statement', 'to', 'a', 'jury', 'of', 'eight', 'women', 'and', 'four', 'men', ',', 'Bernard', 'H.', 'Sokol', ',', 'attorney', 'for', 'the', 'detectives', ',', 'said', 'that', 'evidence', 'would', 'show', 'that', 'his', 'clients', 'were', '``', 'entirely', 'innocent', '``', '.', \"'\", 'had', 'to', 'know', 'peddlers', \"'\", '``', 'When', 'they', 'became', 'members', 'of', 'the', 'city', 'police', 'narcotics', 'unit', '``', ',', 'Sokol', 'said', ',', '``', 'they', 'were', 'told', 'they', 'would', 'have', 'to', 'get', 'to', 'know', 'certain', 'areas', 'of', 'Chicago', 'in', 'which', 'narcotics', 'were', 'sold', 'and', 'they', 'would', 'have', 'to', 'get', 'to', 'know', 'people', 'in', 'the', 'narcotics', 'racket', '.', 'They', ',', 'on', 'occasion', ',', 'posed', 'as', 'addicts', 'and', 'peddlers', '``', '.', 'Although', 'federal', 'and', 'city', 'narcotic', 'agents', 'sometimes', 'worked', 'together', ',', 'Sokol', 'continued', ',', 'rivalries', 'developed', 'when', 'they', 'were', '``', 'aiming', 'at', 'the', 'same', 'criminals', '``', '.', 'This', ',', 'he', 'added', ',', 'brought', 'about', '``', 'petty', 'jealousies', '``', 'and', '``', 'petty', 'personal', 'grievances', '``', '.', '``', 'In', 'the', 'same', 'five', 'year', 'period', 'that', 'the', 'United', 'States', 'says', 'they', '(', 'the', 'detectives', ')', 'were', 'engaged', 'in', 'this', 'conspiracy', '``', ',', 'Sokol', 'continued', ',', '``', 'these', 'three', 'young', 'men', 'received', 'a', 'total', 'of', '26', 'creditable', 'mentions', 'and', 'many', 'special', 'compensations', ',', 'and', 'were', 'nominated', 'for', 'the', 'Lambert', 'Tree', 'award', 'and', 'the', 'mayor', \"'s\", 'medal', '``', '.', 'No', 'comments', 'by', 'U.S', '.', 'In', 'opening', ',', 'D.', 'Arthur', 'Connelly', ',', 'assistant', 'United', 'States', 'attorney', ',', 'read', 'the', 'indictment', ',', 'but', 'made', 'no', 'comments', '.', 'Attorneys', 'for', 'the', 'eight', 'other', 'defendants', 'said', 'only', 'that', 'there', 'was', 'no', 'proof', 'of', 'their', 'clients', \"'\", 'guilt', '.', 'Cooperman', 'and', 'Teller', 'are', 'accused', 'of', 'selling', '$', '4,700', 'worth', 'of', 'heroin', 'to', 'a', 'convicted', 'narcotics', 'peddler', ',', 'Otis', 'Sears', ',', '45', ',', 'of', '6934', 'Indiana', 'Av', '.', '.', 'Among', 'other', 'acts', ',', 'Teller', 'and', 'Austin', 'are', 'accused', 'of', 'paying', '$', '800', 'to', 'Sears', '.', 'The', 'first', 'witness', ',', 'Moses', 'Winston', 'Mardis', ',', '5835', 'Michigan', 'Av', '.', ',', 'a', 'real', 'estate', 'agent', 'and', 'former', 'bail', 'bondsman', ',', 'took', 'the', 'stand', 'after', 'opening', 'statements', 'had', 'been', 'made', '.', 'But', 'court', 'adjourned', 'after', 'he', 'testified', 'he', 'introduced', 'James', 'White', 'and', 'Jeremiah', 'Hope', 'Pullings', ',', 'two', 'of', 'the', 'defendants', ',', 'and', 'also', 'introduced', 'Pullings', 'to', 'Jessy', 'Maroy', ',', 'a', 'man', 'mentioned', 'in', 'the', 'indictment', 'but', 'not', 'indicted', '.', 'Buaford', 'Robinson', ',', '23', ',', 'of', '7026', 'Stewart', 'Av', '.', ',', 'a', 'CTA', 'bus', 'driver', ',', 'was', 'slugged', 'and', 'robbed', 'last', 'night', 'by', 'a', 'group', 'of', 'youths', 'at', '51st', 'Street', 'and', 'South', 'Park', 'Way', '.', 'Robinson', 'was', 'treated', 'at', 'a', 'physician', \"'s\", 'office', 'for', 'a', 'cut', 'over', 'his', 'left', 'eyebrow', 'and', 'a', 'possible', 'sprained', 'knee', '.', 'His', 'losses', 'included', 'his', 'money', 'bag', ',', 'containing', '$', '40', 'to', '$', '50', 'and', 'his', '$', '214', 'paycheck', '.', 'Robinson', 'told', 'Policemen', 'James', 'Jones', 'and', 'Morgan', 'Lloyd', 'of', 'the', 'Wabash', 'Avenue', 'district', 'that', '10', 'youths', 'boarded', 'his', 'south', 'bound', 'express', 'bus', 'in', 'front', 'of', 'Dunbar', 'Vocational', 'High', 'School', ',', '30th', 'Street', 'and', 'South', 'Park', 'Way', ',', 'and', 'began', '``', 'skylarking', '``', '.', 'When', '51st', 'Street', 'was', 'reached', ',', 'Robinson', 'related', ',', 'he', 'stopped', 'the', 'bus', 'and', 'told', 'the', 'youths', 'he', 'was', 'going', 'to', 'call', 'the', 'CTA', 'supervisor', '.', 'As', 'he', 'left', 'the', 'bus', 'with', 'his', 'money', 'bag', ',', 'Robinson', 'added', ',', 'the', 'largest', 'youth', 'accosted', 'him', ',', 'a', 'quarrel', 'ensued', ',', 'and', 'the', 'youth', 'knocked', 'him', 'down', '.', 'Then', 'the', 'youths', 'fled', 'with', 'his', 'money', '.', 'Mrs.', 'Blanche', 'Dunkel', ',', '60', ',', 'who', 'has', 'spent', '25', 'years', 'in', 'the', 'Dwight', 'reformatory', 'for', 'women', 'for', 'the', 'murder', 'in', '1935', 'of', 'her', 'son-in-law', ',', 'Ervin', 'Lang', ',', 'then', '28', ',', 'appealed', 'for', 'a', 'parole', 'at', 'a', 'hearing', 'yesterday', 'before', 'two', 'Illinois', 'pardon', 'and', 'parole', 'board', 'members', ',', 'John', 'M.', 'Bookwalter', 'and', 'Joseph', 'Carpentier', '.', 'She', 'had', 'been', 'sentenced', 'to', '180', 'years', 'in', 'prison', ',', 'but', 'former', 'Gov', '.', 'Stratton', 'commuted', 'her', 'term', 'to', '75', 'years', ',', 'making', 'her', 'eligible', 'for', 'parole', ',', 'as', 'one', 'of', 'his', 'last', 'acts', 'in', 'office', '.', 'Mrs.', 'Dunkel', 'admitted', 'the', 'slaying', 'and', 'said', 'that', 'the', 'son-in-law', 'became', 'her', 'lover', 'after', 'the', 'death', 'of', 'her', 'daughter', 'in', '1934', '.', 'It', 'was', 'when', 'he', 'attempted', 'to', 'end', 'the', 'relationship', 'that', 'the', 'murder', 'took', 'place', '.', 'The', 'son', 'of', 'a', 'wealthy', 'Evanston', 'executive', 'was', 'fined', '$', '100', 'yesterday', 'and', 'forbidden', 'to', 'drive', 'for', '60', 'days', 'for', 'leading', 'an', 'Evanston', 'policeman', 'on', 'a', 'high', 'speed', 'chase', 'over', 'icy', 'Evanston', 'and', 'Wilmette', 'streets', 'Jan.', '20', '.', 'The', 'defendant', ',', 'William', 'L.', 'Stickney', '3', ',', '23', ',', 'of', '3211', 'Park', 'pl', '.', ',', 'Evanston', ',', 'who', 'pleaded', 'guilty', 'to', 'reckless', 'driving', ',', 'also', 'was', 'ordered', 'by', 'Judge', 'James', 'Corcoran', 'to', 'attend', 'the', 'Evanston', 'traffic', 'school', 'each', 'Tuesday', 'night', 'for', 'one', 'month', '.', 'Stickney', 'is', 'a', 'salesman', 'for', 'Plee-Zing', ',', 'Inc.', ',', '2544', 'Green', 'Bay', 'Rd', '.', ',', 'Evanston', ',', 'a', 'food', 'brokerage', 'and', 'grocery', 'chain', 'firm', ',', 'of', 'which', 'his', 'father', ',', 'William', 'L.', 'Jr.', ',', 'is', 'president', '.', 'Patrolman', 'James', 'F.', 'Simms', 'said', 'he', 'started', 'in', 'pursuit', 'when', 'he', 'saw', 'young', 'Stickney', 'speeding', 'north', 'in', 'Stewart', 'Avenue', 'at', 'Central', 'Street', '.', 'At', 'Jenks', 'Street', ',', 'Simms', 'said', ',', 'the', 'car', 'skidded', 'completely', 'around', ',', 'just', 'missed', 'two', 'parked', 'cars', ',', 'and', 'sped', 'east', 'in', 'Jenks', '.', 'The', 'car', 'spun', 'around', 'again', ',', 'Simms', 'said', ',', 'before', 'Stickney', 'could', 'turn', 'north', 'in', 'Prairie', 'Avenue', ',', 'and', 'then', 'violated', 'two', 'stop', 'lights', 'as', 'he', 'traveled', 'north', 'into', 'Wilmette', 'in', 'Prairie', '.']\n"
     ]
    },
    {
     "name": "stdout",
     "output_type": "stream",
     "text": [
      "[('London', 'NNP'), (',', ','), ('Feb.', 'NNP'), ('9', 'CD'), ('--', ':'), ('Vital', 'JJ'), ('secrets', 'NNS'), ('of', 'IN'), ('Britain', 'NNP'), (\"'s\", 'POS'), ('first', 'JJ'), ('atomic', 'JJ'), ('submarine', 'NN'), (',', ','), ('the', 'DT'), ('Dreadnought', 'NNP'), (',', ','), ('and', 'CC'), (',', ','), ('by', 'IN'), ('implication', 'NN'), (',', ','), ('of', 'IN'), ('the', 'DT'), ('entire', 'JJ'), ('United', 'NNP'), ('States', 'NNPS'), ('navy', 'VBP'), (\"'s\", 'POS'), ('still-building', 'JJ'), ('nuclear', 'JJ'), ('sub', 'NN'), ('fleet', 'NN'), (',', ','), ('were', 'VBD'), ('stolen', 'VBN'), ('by', 'IN'), ('a', 'DT'), ('London-based', 'JJ'), ('soviet', 'JJ'), ('spy', 'NN'), ('ring', 'NN'), (',', ','), ('secret', 'JJ'), ('service', 'NN'), ('agents', 'NNS'), ('testified', 'VBD'), ('today', 'NN'), ('.', '.'), ('The', 'DT'), ('Dreadnought', 'NNP'), ('was', 'VBD'), ('built', 'VBN'), ('on', 'IN'), ('designs', 'NNS'), ('supplied', 'VBN'), ('by', 'IN'), ('the', 'DT'), ('United', 'NNP'), ('States', 'NNPS'), ('in', 'IN'), ('1959', 'CD'), ('and', 'CC'), ('was', 'VBD'), ('launched', 'VBN'), ('last', 'JJ'), ('year', 'NN'), ('.', '.'), ('It', 'PRP'), ('is', 'VBZ'), ('a', 'DT'), ('killer', 'NN'), ('sub', 'NN'), ('--', ':'), ('that', 'WDT'), ('is', 'VBZ'), (',', ','), ('a', 'DT'), ('hunter', 'NN'), ('of', 'IN'), ('enemy', 'NN'), ('subs', 'NN'), ('.', '.'), ('It', 'PRP'), ('has', 'VBZ'), ('a', 'DT'), ('hull', 'NN'), ('patterned', 'VBN'), ('on', 'IN'), ('that', 'DT'), ('of', 'IN'), ('the', 'DT'), ('United', 'NNP'), ('States', 'NNPS'), ('navy', 'VBP'), (\"'s\", 'POS'), ('Nautilus', 'NNP'), (',', ','), ('the', 'DT'), ('world', 'NN'), (\"'s\", 'POS'), ('first', 'JJ'), ('atomic', 'JJ'), ('submarine', 'NN'), ('.', '.'), ('Its', 'PRP$'), ('power', 'NN'), ('unit', 'NN'), (',', ','), ('however', 'RB'), (',', ','), ('was', 'VBD'), ('derived', 'VBN'), ('from', 'IN'), ('the', 'DT'), ('reactor', 'NN'), ('of', 'IN'), ('the', 'DT'), ('more', 'RBR'), ('modern', 'JJ'), ('American', 'JJ'), ('nuclear', 'JJ'), ('submarine', 'NN'), ('Skipjack', 'NNP'), ('.', '.'), ('Five', 'CD'), ('held', 'VBD'), ('for', 'IN'), ('trial', 'NN'), ('The', 'DT'), ('announcement', 'NN'), ('that', 'IN'), ('the', 'DT'), ('secrets', 'NNS'), ('of', 'IN'), ('the', 'DT'), ('Dreadnought', 'NNP'), ('had', 'VBD'), ('been', 'VBN'), ('stolen', 'VBN'), ('was', 'VBD'), ('made', 'VBN'), ('in', 'IN'), ('Bow', 'NNP'), ('St.', 'NNP'), ('police', 'NNS'), ('court', 'NN'), ('here', 'RB'), ('at', 'IN'), ('the', 'DT'), ('end', 'NN'), ('of', 'IN'), ('a', 'DT'), ('three', 'CD'), ('day', 'NN'), ('hearing', 'VBG'), ('.', '.'), ('A', 'DT'), ('full', 'JJ'), ('trial', 'NN'), ('was', 'VBD'), ('ordered', 'VBN'), ('for', 'IN'), (':', ':'), ('Two', 'CD'), ('British', 'JJ'), ('civil', 'JJ'), ('servants', 'NNS'), (',', ','), ('Miss', 'NNP'), ('Ethel', 'NNP'), ('Gee', 'NNP'), (',', ','), ('46', 'CD'), (',', ','), ('and', 'CC'), ('her', 'PRP$'), ('newly', 'RB'), ('devoted', 'VBN'), ('friend', 'NN'), (',', ','), ('Harry', 'NNP'), ('Houghton', 'NNP'), (',', ','), ('55', 'CD'), (',', ','), ('and', 'CC'), ('divorced', 'VBN'), ('.', '.'), ('They', 'PRP'), ('are', 'VBP'), ('accused', 'VBN'), ('of', 'IN'), ('whisking', 'VBG'), ('secrets', 'NNS'), ('out', 'IN'), ('of', 'IN'), ('naval', 'JJ'), ('strongrooms', 'NNS'), ('over', 'IN'), ('which', 'WDT'), ('they', 'PRP'), ('kept', 'VBD'), ('guard', 'NN'), ('.', '.'), ('Gordon', 'NNP'), ('A.', 'NN'), ('Lonsdale', 'NNP'), (',', ','), ('37', 'CD'), (',', ','), ('a', 'DT'), ('mystery', 'NN'), ('man', 'NN'), ('presumed', 'VBD'), ('to', 'TO'), ('be', 'VB'), ('Russian', 'JJ'), ('although', 'IN'), ('he', 'PRP'), ('carries', 'VBZ'), ('a', 'DT'), ('Canadian', 'JJ'), ('passport', 'NN'), ('.', '.'), ('When', 'WRB'), ('arrested', 'VBN'), (',', ','), ('he', 'PRP'), ('had', 'VBD'), ('the', 'DT'), ('submarine', 'JJ'), ('secrets', 'NNS'), ('on', 'IN'), ('a', 'DT'), ('roll', 'NN'), ('of', 'IN'), ('candid', 'JJ'), ('camera', 'NN'), ('film', 'NN'), ('as', 'RB'), ('well', 'RB'), ('as', 'IN'), ('anti-submarine', 'JJ'), ('secrets', 'NNS'), ('in', 'IN'), ('Christmas', 'NNP'), ('gift', 'NN'), ('wrapping', 'NN'), (',', ','), ('it', 'PRP'), ('was', 'VBD'), ('testified', 'VBN'), ('.', '.'), ('Flashed', 'VBN'), ('to', 'TO'), ('Moscow', 'NNP'), ('A', 'NNP'), ('shadowy', 'JJ'), ('couple', 'NN'), ('who', 'WP'), ('call', 'VBP'), ('themselves', 'PRP'), ('Peter', 'NNP'), ('Kroger', 'NNP'), (',', ','), ('bookseller', 'NN'), (',', ','), ('and', 'CC'), ('wife', 'NN'), (',', ','), ('Joyce', 'NNP'), ('.', '.'), ('(', '('), ('In', 'IN'), ('Washington', 'NNP'), (',', ','), ('the', 'DT'), ('Federal', 'NNP'), ('Bureau', 'NNP'), ('of', 'IN'), ('Investigation', 'NNP'), ('identified', 'VBD'), ('the', 'DT'), ('Krogers', 'NNP'), ('as', 'IN'), ('Morris', 'NNP'), ('and', 'CC'), ('Lola', 'NNP'), ('Cohen', 'NNP'), (',', ','), ('an', 'DT'), ('American', 'JJ'), ('couple', 'NN'), ('formerly', 'RB'), ('of', 'IN'), ('New', 'NNP'), ('York', 'NNP'), ('City', 'NNP'), (')', ')'), ('.', '.'), ('In', 'IN'), ('their', 'PRP$'), ('suburban', 'JJ'), ('cottage', 'NN'), ('the', 'DT'), ('crown', 'NN'), ('charges', 'NNS'), (',', ','), ('the', 'DT'), ('Krogers', 'NNP'), ('received', 'VBD'), ('secrets', 'NNS'), ('from', 'IN'), ('the', 'DT'), ('mystery', 'NN'), ('man', 'NN'), (',', ','), ('usually', 'RB'), ('on', 'IN'), ('the', 'DT'), ('first', 'JJ'), ('Saturday', 'NNP'), ('evening', 'NN'), ('of', 'IN'), ('each', 'DT'), ('month', 'NN'), (',', ','), ('and', 'CC'), ('spent', 'VBD'), ('much', 'RB'), ('of', 'IN'), ('the', 'DT'), ('week-end', 'JJ'), ('getting', 'VBG'), ('the', 'DT'), ('secrets', 'NNS'), ('off', 'IN'), ('to', 'TO'), ('Moscow', 'NNP'), (',', ','), ('either', 'RB'), ('on', 'IN'), ('a', 'DT'), ('powerful', 'JJ'), ('transmitter', 'NN'), ('buried', 'VBN'), ('under', 'IN'), ('the', 'DT'), ('kitchen', 'NN'), ('floor', 'NN'), ('or', 'CC'), ('as', 'IN'), ('dots', 'NNS'), ('posted', 'VBD'), ('over', 'IN'), ('period', 'NN'), ('marks', 'NNS'), ('in', 'IN'), ('used', 'JJ'), ('books', 'NNS'), ('.', '.'), ('Each', 'DT'), ('dot', 'NN'), ('on', 'IN'), ('magnification', 'NN'), ('resumed', 'VBD'), ('its', 'PRP$'), ('original', 'JJ'), ('condition', 'NN'), ('as', 'IN'), ('a', 'DT'), ('drawing', 'NN'), (',', ','), ('a', 'DT'), ('printed', 'JJ'), ('page', 'NN'), (',', ','), ('or', 'CC'), ('a', 'DT'), ('manuscript', 'NN'), ('.', '.'), ('All', 'DT'), ('five', 'CD'), ('pleaded', 'VBD'), ('innocent', 'NN'), ('.', '.'), ('Only', 'RB'), ('Miss', 'NNP'), ('Gee', 'NNP'), ('asked', 'VBD'), ('for', 'IN'), ('bail', 'NN'), ('.', '.'), ('Her', 'PRP$'), ('young', 'JJ'), ('British', 'JJ'), ('lawyer', 'NN'), (',', ','), ('James', 'NNP'), ('Dunlop', 'NNP'), (',', ','), ('pleaded', 'VBD'), ('that', 'IN'), ('she', 'PRP'), ('was', 'VBD'), ('sorely', 'RB'), ('needed', 'VBN'), ('at', 'IN'), ('her', 'PRP$'), ('Portland', 'NNP'), ('home', 'NN'), ('by', 'IN'), ('her', 'PRP$'), ('widowed', 'NN'), ('mother', 'NN'), (',', ','), ('80', 'CD'), (',', ','), ('her', 'PRP$'), ('maiden', 'JJ'), ('aunt', 'NN'), (',', ','), ('also', 'RB'), ('80', 'CD'), ('and', 'CC'), ('bedridden', 'VB'), ('for', 'IN'), ('20', 'CD'), ('years', 'NNS'), (',', ','), ('and', 'CC'), ('her', 'PRP$'), ('uncle', 'NN'), (',', ','), ('76', 'CD'), (',', ','), ('who', 'WP'), ('once', 'RB'), ('ran', 'VBD'), ('a', 'DT'), ('candy', 'NN'), ('shop', 'NN'), ('.', '.'), ('Refuses', 'VBZ'), ('to', 'TO'), ('grant', 'VB'), ('bail', 'IN'), ('``', '``'), ('I', 'PRP'), ('am', 'VBP'), ('not', 'RB'), ('prepared', 'JJ'), ('to', 'TO'), ('grant', 'VB'), ('bail', 'NN'), ('to', 'TO'), ('any', 'DT'), ('of', 'IN'), ('them', 'PRP'), ('``', '``'), (',', ','), ('said', 'VBD'), ('the', 'DT'), ('magistrate', 'NN'), (',', ','), ('K.J.P', 'NNP'), ('.', '.'), ('Baraclough', 'NNP'), ('.', '.'), ('The', 'DT'), ('trial', 'NN'), ('will', 'MD'), ('be', 'VB'), ('held', 'VBN'), (',', ','), ('probably', 'RB'), ('the', 'DT'), ('first', 'JJ'), ('week', 'NN'), ('of', 'IN'), ('March', 'NNP'), (',', ','), ('in', 'IN'), ('the', 'DT'), ('famous', 'JJ'), ('Old', 'NNP'), ('Bailey', 'NNP'), ('central', 'JJ'), ('criminal', 'JJ'), ('court', 'NN'), ('where', 'WRB'), ('Klaus', 'NNP'), ('Fuchs', 'NNP'), (',', ','), ('the', 'DT'), ('naturalized', 'JJ'), ('British', 'JJ'), ('German', 'NNP'), ('born', 'NN'), ('scientist', 'NN'), ('who', 'WP'), ('succeeded', 'VBD'), ('in', 'IN'), ('giving', 'VBG'), ('American', 'JJ'), ('and', 'CC'), ('British', 'JJ'), ('atomic', 'JJ'), ('bomb', 'NN'), ('secrets', 'NNS'), ('to', 'TO'), ('Russia', 'NNP'), ('and', 'CC'), ('thereby', 'RB'), ('changed', 'VBN'), ('world', 'NN'), ('history', 'NN'), ('during', 'IN'), ('the', 'DT'), ('1950s', 'CD'), (',', ','), ('was', 'VBD'), ('sentenced', 'VBN'), ('to', 'TO'), ('14', 'CD'), ('years', 'NNS'), ('in', 'IN'), ('prison', 'NN'), ('.', '.'), ('Fourteen', 'CD'), ('years', 'NNS'), ('is', 'VBZ'), ('the', 'DT'), ('maximum', 'JJ'), ('penalty', 'NN'), ('now', 'RB'), ('faced', 'VBN'), ('by', 'IN'), ('the', 'DT'), ('new', 'JJ'), ('five', 'CD'), (',', ','), ('who', 'WP'), ('may', 'MD'), ('have', 'VB'), ('altered', 'VBN'), ('history', 'NN'), ('in', 'IN'), ('the', 'DT'), ('1960s', 'NNS'), ('.', '.'), ('Fuchs', 'NNP'), (',', ','), ('after', 'IN'), ('nine', 'CD'), ('and', 'CC'), ('a', 'DT'), ('half', 'JJ'), ('years', 'NNS'), (',', ','), ('was', 'VBD'), ('released', 'VBN'), (',', ','), ('being', 'VBG'), ('given', 'VBN'), ('time', 'NN'), ('off', 'IN'), ('for', 'IN'), ('good', 'JJ'), ('behavior', 'NN'), ('.', '.'), ('He', 'PRP'), ('promptly', 'RB'), ('went', 'VBD'), ('to', 'TO'), ('communist', 'VB'), ('East', 'NNP'), ('Germany', 'NNP'), ('.', '.'), ('The', 'DT'), ('magistrate', 'NN'), ('tonight', 'NN'), ('refused', 'VBD'), ('to', 'TO'), ('return', 'VB'), ('to', 'TO'), ('the', 'DT'), ('five', 'CD'), ('$', '$'), ('29,000', 'CD'), ('in', 'IN'), ('American', 'JJ'), ('and', 'CC'), ('British', 'JJ'), ('currency', 'NN'), (',', ','), ('mostly', 'RB'), ('$', '$'), ('20', 'CD'), ('bills', 'NNS'), (',', ','), ('and', 'CC'), ('in', 'IN'), ('British', 'JJ'), ('government', 'NN'), ('bonds', 'NNS'), ('and', 'CC'), ('stocks', 'NNS'), ('.', '.'), ('``', '``'), ('This', 'DT'), ('is', 'VBZ'), ('Russian', 'JJ'), ('money', 'NN'), ('``', '``'), (',', ','), ('said', 'VBD'), ('Mervin', 'NNP'), ('Griffith-Jones', 'NNP'), ('for', 'IN'), ('the', 'DT'), ('attorney', 'NN'), ('general', 'NN'), (\"'s\", 'POS'), ('office', 'NN'), ('.', '.'), ('He', 'PRP'), ('asserted', 'VBD'), ('that', 'IN'), ('the', 'DT'), ('Krogers', 'NNPS'), ('were', 'VBD'), ('the', 'DT'), ('bankers', 'NNS'), ('for', 'IN'), ('Moscow', 'NNP'), (',', ','), ('Lonsdale', 'NNP'), ('the', 'DT'), ('Red', 'NNP'), ('paymaster', 'NN'), (',', ','), ('and', 'CC'), ('the', 'DT'), ('two', 'CD'), ('civil', 'JJ'), ('servants', 'NNS'), ('the', 'DT'), ('recipients', 'NNS'), ('for', 'IN'), ('selling', 'VBG'), ('their', 'PRP$'), ('country', 'NN'), (\"'s\", 'POS'), ('secrets', 'NNS'), ('.', '.'), ('``', '``'), ('Of', 'IN'), ('highest', 'JJS'), ('value', 'NN'), ('``', '``'), ('The', 'DT'), ('fact', 'NN'), ('that', 'IN'), ('secrets', 'NNS'), ('of', 'IN'), ('the', 'DT'), ('Dreadnought', 'NNP'), (',', ','), ('and', 'CC'), ('thereby', 'RB'), ('of', 'IN'), ('the', 'DT'), ('American', 'NNP'), ('undersea', 'NNP'), ('fleet', 'NN'), (',', ','), ('were', 'VBD'), ('involved', 'VBN'), ('in', 'IN'), ('the', 'DT'), ('spy', 'NN'), ('case', 'NN'), ('had', 'VBD'), ('been', 'VBN'), ('hinted', 'VBN'), ('at', 'IN'), ('earlier', 'RBR'), ('.', '.'), ('But', 'CC'), ('just', 'RB'), ('before', 'IN'), ('luncheon', 'NN'), ('today', 'NN'), ('the', 'DT'), ('fact', 'NN'), ('was', 'VBD'), ('announced', 'VBN'), ('grimly', 'RB'), ('by', 'IN'), ('the', 'DT'), ('British', 'JJ'), ('navy', 'NN'), (\"'s\", 'POS'), ('chief', 'JJ'), ('adviser', 'NN'), ('to', 'TO'), ('the', 'DT'), ('cabinet', 'NN'), ('on', 'IN'), ('underwater', 'NN'), ('warfare', 'NN'), (',', ','), ('Capt', 'NNP'), ('.', '.'), ('George', 'NNP'), ('Symonds', 'NNP'), ('.', '.'), ('He', 'PRP'), ('said', 'VBD'), ('that', 'IN'), ('drawings', 'NNS'), ('of', 'IN'), ('the', 'DT'), ('Dreadnought', 'NNP'), ('and', 'CC'), ('printed', 'VBN'), ('details', 'NNS'), ('about', 'IN'), ('the', 'DT'), ('ship', 'NN'), ('were', 'VBD'), ('found', 'VBN'), ('reproduced', 'VBN'), ('in', 'IN'), ('an', 'DT'), ('undeveloped', 'JJ'), ('roll', 'NN'), ('of', 'IN'), ('film', 'NN'), ('taken', 'VBN'), ('from', 'IN'), ('Lonsdale', 'NNP'), ('when', 'WRB'), ('he', 'PRP'), ('was', 'VBD'), ('arrested', 'VBN'), ('with', 'IN'), ('the', 'DT'), ('two', 'CD'), ('civil', 'JJ'), ('servants', 'NNS'), ('outside', 'IN'), ('the', 'DT'), ('Old', 'NNP'), ('Vic', 'NNP'), ('theater', 'NN'), ('Saturday', 'NNP'), ('afternoon', 'NN'), (',', ','), ('Jan.', 'NNP'), ('7', 'CD'), ('.', '.'), ('The', 'DT'), ('information', 'NN'), (',', ','), ('he', 'PRP'), ('said', 'VBD'), (',', ','), ('would', 'MD'), ('have', 'VB'), ('been', 'VBN'), ('of', 'IN'), ('the', 'DT'), ('highest', 'JJS'), ('value', 'NN'), ('to', 'TO'), ('a', 'DT'), ('potential', 'JJ'), ('enemy', 'NN'), ('.', '.'), ('Court', 'NNP'), ('cleared', 'VBD'), ('Just', 'NNP'), ('how', 'WRB'), ('many', 'JJ'), ('sub', 'JJ'), ('secrets', 'NNS'), ('were', 'VBD'), ('being', 'VBG'), ('handed', 'VBN'), ('over', 'RP'), ('when', 'WRB'), ('the', 'DT'), ('ring', 'NN'), (',', ','), ('watched', 'VBD'), ('for', 'IN'), ('six', 'CD'), ('months', 'NNS'), (',', ','), ('was', 'VBD'), ('broken', 'VBN'), ('remained', 'JJ'), ('untold', 'JJ'), ('.', '.'), ('The', 'DT'), ('British', 'JJ'), ('defending', 'NN'), ('lawyers', 'NNS'), (',', ','), ('who', 'WP'), ('today', 'NN'), ('increased', 'VBD'), ('from', 'IN'), ('three', 'CD'), ('to', 'TO'), ('four', 'CD'), (',', ','), ('demanded', 'VBD'), ('to', 'TO'), ('know', 'VB'), ('if', 'IN'), ('they', 'PRP'), ('could', 'MD'), ('make', 'VB'), ('the', 'DT'), ('information', 'NN'), ('involved', 'VBN'), ('seem', 'NN'), ('of', 'IN'), ('little', 'JJ'), ('value', 'NN'), ('to', 'TO'), ('a', 'DT'), ('jury', 'NN'), (',', ','), ('the', 'DT'), ('chances', 'NNS'), ('of', 'IN'), ('their', 'PRP$'), ('clients', 'NNS'), ('would', 'MD'), ('improve', 'VB'), ('.', '.'), ('So', 'RB'), ('in', 'IN'), ('the', 'DT'), ('name', 'NN'), ('of', 'IN'), ('justice', 'NN'), ('the', 'DT'), ('magistrate', 'NN'), ('cleared', 'VBD'), ('the', 'DT'), ('court', 'NN'), ('of', 'IN'), ('all', 'DT'), ('except', 'IN'), ('officials', 'NNS'), ('to', 'TO'), ('allow', 'VB'), ('the', 'DT'), ('captain', 'NN'), ('to', 'TO'), ('elaborate', 'VB'), ('for', 'IN'), ('almost', 'RB'), ('an', 'DT'), ('hour', 'NN'), ('.', '.'), ('Almost', 'NNP'), ('any', 'DT'), ('information', 'NN'), ('about', 'IN'), ('the', 'DT'), ('Dreadnought', 'NNP'), ('would', 'MD'), ('also', 'RB'), ('reveal', 'VB'), ('secrets', 'NNS'), ('about', 'IN'), ('the', 'DT'), ('American', 'JJ'), ('underwater', 'NN'), ('fleet', 'NN'), ('.', '.'), ('Britain', 'NNP'), ('began', 'VBD'), ('designing', 'VBG'), ('the', 'DT'), ('ship', 'NN'), ('in', 'IN'), ('1956', 'CD'), ('but', 'CC'), ('got', 'VBD'), ('nowhere', 'RB'), ('until', 'IN'), ('the', 'DT'), ('American', 'JJ'), ('government', 'NN'), ('decided', 'VBD'), ('to', 'TO'), ('end', 'VB'), ('a', 'DT'), ('ban', 'NN'), ('on', 'IN'), ('sharing', 'VBG'), ('military', 'JJ'), ('secrets', 'NNS'), ('with', 'IN'), ('Britain', 'NNP'), ('that', 'WDT'), ('had', 'VBD'), ('been', 'VBN'), ('imposed', 'VBN'), ('after', 'IN'), ('Fuchs', 'NNP'), ('blabbed', 'VBD'), ('.', '.'), ('The', 'DT'), ('United', 'NNP'), ('States', 'NNPS'), ('offered', 'VBD'), ('to', 'TO'), ('supply', 'VB'), ('a', 'DT'), ('complete', 'JJ'), ('set', 'NN'), ('of', 'IN'), ('propelling', 'VBG'), ('equipment', 'NN'), ('like', 'IN'), ('that', 'DT'), ('used', 'VBN'), ('in', 'IN'), ('the', 'DT'), ('Skipjack', 'NNP'), ('.', '.'), ('With', 'IN'), ('the', 'DT'), ('machinery', 'NN'), ('went', 'VBD'), ('a', 'DT'), ('complete', 'JJ'), ('design', 'NN'), ('for', 'IN'), ('the', 'DT'), ('hull', 'NN'), ('.', '.'), ('The', 'DT'), ('Skipjack', 'NNP'), ('was', 'VBD'), ('a', 'DT'), ('second', 'JJ'), ('generation', 'NN'), ('atomic', 'JJ'), ('sub', 'NN'), (',', ','), ('much', 'RB'), ('advanced', 'VBN'), ('on', 'IN'), ('the', 'DT'), ('Nautilus', 'NNP'), ('and', 'CC'), ('the', 'DT'), ('other', 'JJ'), ('four', 'CD'), ('which', 'WDT'), ('preceded', 'VBD'), ('it', 'PRP'), ('.', '.'), ('Navy', 'NNP'), (\"'s\", 'POS'), ('future', 'NN'), ('involved', 'VBN'), ('``', '``'), ('Much', 'JJ'), ('of', 'IN'), ('the', 'DT'), ('navy', 'NNP'), (\"'s\", 'POS'), ('future', 'NN'), ('depends', 'VBZ'), ('upon', 'IN'), ('her', 'PRP$'), ('``', '``'), (',', ','), ('an', 'DT'), ('American', 'JJ'), ('naval', 'JJ'), ('announcement', 'NN'), ('said', 'VBD'), ('on', 'IN'), ('the', 'DT'), ('Skipjack', 'NNP'), (\"'s\", 'POS'), ('first', 'JJ'), ('arrival', 'NN'), ('in', 'IN'), ('British', 'JJ'), ('waters', 'NNS'), ('in', 'IN'), ('August', 'NNP'), (',', ','), ('1959', 'CD'), (',', ','), ('for', 'IN'), ('exhibition', 'NN'), ('to', 'TO'), ('selected', 'VBN'), ('high', 'JJ'), ('officers', 'NNS'), ('at', 'IN'), ('Portland', 'NNP'), ('underwater', 'NNP'), ('research', 'NN'), ('station', 'NN'), ('.', '.'), ('It', 'PRP'), ('was', 'VBD'), ('there', 'EX'), ('that', 'IN'), ('the', 'DT'), ('two', 'CD'), ('accused', 'VBD'), ('civil', 'JJ'), ('servants', 'NNS'), ('were', 'VBD'), ('at', 'IN'), ('work', 'NN'), ('.', '.'), ('``', '``'), ('Her', 'PRP$'), ('basic', 'JJ'), ('hull', 'JJ'), ('form', 'NN'), ('(', '('), ('a', 'DT'), ('teardrop', 'NN'), (')', ')'), ('and', 'CC'), ('her', 'PRP$'), ('nuclear', 'JJ'), ('power', 'NN'), ('plant', 'NN'), ('will', 'MD'), ('be', 'VB'), ('used', 'VBN'), ('for', 'IN'), ('almost', 'RB'), ('all', 'DT'), ('new', 'JJ'), ('submarines', 'NNS'), (',', ','), ('including', 'VBG'), ('the', 'DT'), ('potent', 'JJ'), ('Polaris', 'NNP'), ('missile', 'NN'), ('submarines', 'NNS'), ('``', '``'), (',', ','), ('the', 'DT'), ('statement', 'NN'), ('went', 'VBD'), ('on', 'IN'), ('.', '.'), ('The', 'DT'), ('atom', 'NN'), ('reactor', 'NN'), (',', ','), ('water', 'NN'), ('cooled', 'VBD'), (',', ','), ('was', 'VBD'), ('the', 'DT'), ('result', 'NN'), ('of', 'IN'), ('almost', 'RB'), ('a', 'DT'), ('decade', 'NN'), ('of', 'IN'), ('research', 'NN'), ('at', 'IN'), ('the', 'DT'), ('naval', 'JJ'), ('reactors', 'NNS'), ('branch', 'NN'), ('of', 'IN'), ('the', 'DT'), ('atomic', 'JJ'), ('energy', 'NN'), ('commission', 'NN'), ('and', 'CC'), ('Westinghouse', 'NNP'), ('Electric', 'NNP'), ('Corp.', 'NNP'), ('.', '.'), ('Thru', 'NNP'), ('development', 'NN'), (',', ','), ('the', 'DT'), ('reactor', 'NN'), ('and', 'CC'), ('its', 'PRP$'), ('steam', 'NN'), ('turbines', 'NNS'), ('had', 'VBD'), ('been', 'VBN'), ('reduced', 'VBN'), ('greatly', 'RB'), ('in', 'IN'), ('size', 'NN'), (',', ','), ('and', 'CC'), ('also', 'RB'), ('in', 'IN'), ('complexity', 'NN'), (',', ','), ('allowing', 'VBG'), ('a', 'DT'), ('single', 'JJ'), ('propeller', 'NN'), ('to', 'TO'), ('be', 'VB'), ('used', 'VBN'), (',', ','), ('the', 'DT'), ('navy', 'NN'), ('said', 'VBD'), ('.', '.'), ('The', 'DT'), ('hull', 'NN'), ('was', 'VBD'), ('also', 'RB'), ('a', 'DT'), ('result', 'NN'), ('of', 'IN'), ('almost', 'RB'), ('a', 'DT'), ('decade', 'NN'), ('of', 'IN'), ('work', 'NN'), ('.', '.'), ('It', 'PRP'), ('was', 'VBD'), ('first', 'RB'), ('tried', 'VBN'), ('out', 'RP'), ('on', 'IN'), ('a', 'DT'), ('conventional', 'JJ'), ('submarine', 'NN'), (',', ','), ('the', 'DT'), ('Albacore', 'NNP'), (',', ','), ('in', 'IN'), ('1954', 'CD'), ('.', '.'), ('The', 'DT'), ('Skipjack', 'NNP'), ('became', 'VBD'), ('the', 'DT'), ('fastest', 'JJS'), ('submarine', 'NN'), ('ever', 'RB'), ('built', 'VBN'), ('.', '.'), ('Reputedly', 'RB'), ('it', 'PRP'), ('could', 'MD'), ('outrun', 'VB'), (',', ','), ('underwater', 'NN'), (',', ','), ('the', 'DT'), ('fastest', 'JJS'), ('destroyers', 'NNS'), ('.', '.'), ('It', 'PRP'), ('could', 'MD'), (',', ','), ('reputedly', 'RB'), (',', ','), ('go', 'VB'), ('70,000', 'CD'), ('miles', 'NNS'), ('without', 'IN'), ('refueling', 'NN'), ('and', 'CC'), ('stay', 'VB'), ('down', 'RB'), ('more', 'RBR'), ('than', 'IN'), ('a', 'DT'), ('month', 'NN'), ('.', '.'), ('It', 'PRP'), ('was', 'VBD'), ('of', 'IN'), ('the', 'DT'), ('hunter-killer', 'NN'), ('type', 'NN'), (',', ','), ('designed', 'VBN'), ('to', 'TO'), ('seek', 'VB'), ('out', 'RP'), ('ships', 'NNS'), ('and', 'CC'), ('other', 'JJ'), ('submarines', 'NNS'), ('with', 'IN'), ('its', 'PRP$'), ('most', 'RBS'), ('advanced', 'JJ'), ('gear', 'NN'), ('and', 'CC'), ('destroy', 'VB'), ('them', 'PRP'), ('with', 'IN'), ('torpedoes', 'NNS'), ('.', '.'), ('The', 'DT'), ('navy', 'JJ'), ('captain', 'NN'), ('disclosed', 'VBD'), ('also', 'RB'), ('that', 'IN'), ('a', 'DT'), ('list', 'NN'), ('of', 'IN'), ('questions', 'NNS'), ('found', 'VBN'), ('in', 'IN'), ('Miss', 'NNP'), ('Gee', 'NNP'), (\"'s\", 'POS'), ('purse', 'NN'), ('would', 'MD'), (',', ','), ('if', 'IN'), ('completed', 'VBN'), ('and', 'CC'), ('handed', 'VBN'), ('back', 'RB'), (',', ','), ('have', 'VB'), ('given', 'VBN'), ('the', 'DT'), ('Kremlin', 'NNP'), ('a', 'DT'), ('complete', 'JJ'), ('picture', 'NN'), ('``', '``'), ('of', 'IN'), ('our', 'PRP$'), ('current', 'JJ'), ('anti-submarine', 'JJ'), ('effort', 'NN'), ('and', 'CC'), ('would', 'MD'), ('have', 'VB'), ('shown', 'VBN'), ('what', 'WP'), ('we', 'PRP'), ('are', 'VBP'), ('doing', 'VBG'), ('in', 'IN'), ('research', 'NN'), ('and', 'CC'), ('development', 'NN'), ('for', 'IN'), ('the', 'DT'), ('future', 'NN'), ('``', '``'), ('.', '.'), ('Interested', 'JJ'), ('in', 'IN'), ('detector', 'NN'), ('The', 'DT'), ('spy', 'NN'), ('ring', 'NN'), ('also', 'RB'), ('was', 'VBD'), ('particularly', 'RB'), ('interested', 'JJ'), ('in', 'IN'), ('ASDIC', 'NNP'), (',', ','), ('the', 'DT'), ('underwater', 'JJ'), ('equipment', 'NN'), ('for', 'IN'), ('detecting', 'VBG'), ('submarines', 'NNS'), (',', ','), ('it', 'PRP'), ('was', 'VBD'), ('testified', 'VBN'), ('.', '.'), ('Range', 'NNP'), ('was', 'VBD'), ('a', 'DT'), ('vital', 'JJ'), ('detail', 'NN'), ('.', '.'), ('Designs', 'NNP'), ('of', 'IN'), ('parts', 'NNS'), ('were', 'VBD'), ('sought', 'VBN'), ('.', '.'), ('Six', 'NNP'), ('radiomen', 'NNS'), ('told', 'VBD'), ('how', 'WRB'), (',', ','), ('twice', 'RB'), ('on', 'IN'), ('two', 'CD'), ('days', 'NNS'), ('after', 'IN'), ('the', 'DT'), ('ring', 'NN'), ('was', 'VBD'), ('nabbed', 'VBN'), (',', ','), ('a', 'DT'), ('transmitter', 'NN'), ('near', 'IN'), ('Moscow', 'NNP'), ('was', 'VBD'), ('heard', 'VBN'), ('calling', 'VBG'), (',', ','), ('using', 'VBG'), ('signals', 'NNS'), (',', ','), ('times', 'NNS'), ('and', 'CC'), ('wavelengths', 'NNS'), ('specified', 'VBN'), ('on', 'IN'), ('codes', 'NNS'), ('found', 'VBN'), ('hidden', 'RB'), ('in', 'IN'), ('cigaret', 'JJ'), ('lighters', 'NNS'), ('in', 'IN'), ('Lonsdale', 'NNP'), (\"'s\", 'POS'), ('apartment', 'NN'), ('and', 'CC'), ('the', 'DT'), ('Krogers', 'NNP'), (\"'\", 'POS'), ('house', 'NN'), ('and', 'CC'), ('also', 'RB'), ('fastened', 'VBD'), ('to', 'TO'), ('the', 'DT'), ('transmitter', 'NN'), ('lid', 'NN'), ('.', '.'), ('Oddly', 'RB'), (',', ','), ('the', 'DT'), ('calls', 'NNS'), ('were', 'VBD'), ('still', 'RB'), ('heard', 'VBN'), ('11', 'CD'), ('days', 'NNS'), ('after', 'IN'), ('the', 'DT'), ('five', 'CD'), ('were', 'VBD'), ('arrested', 'VBN'), ('.', '.'), ('The', 'DT'), ('charge', 'NN'), ('that', 'IN'), ('the', 'DT'), ('federal', 'JJ'), ('indictment', 'NN'), ('of', 'IN'), ('three', 'CD'), ('Chicago', 'NNP'), ('narcotics', 'NNS'), ('detail', 'VBP'), ('detectives', 'NNS'), ('``', '``'), ('is', 'VBZ'), ('the', 'DT'), ('product', 'NN'), ('of', 'IN'), ('rumor', 'NN'), (',', ','), ('combined', 'VBN'), ('with', 'IN'), ('malice', 'NN'), (',', ','), ('and', 'CC'), ('individual', 'JJ'), ('enmity', 'NN'), ('``', '``'), ('on', 'IN'), ('the', 'DT'), ('part', 'NN'), ('of', 'IN'), ('the', 'DT'), ('federal', 'JJ'), ('narcotics', 'NNS'), ('unit', 'NN'), ('here', 'RB'), ('was', 'VBD'), ('made', 'VBN'), ('yesterday', 'NN'), ('in', 'IN'), ('their', 'PRP$'), ('conspiracy', 'NN'), ('trial', 'NN'), ('before', 'IN'), ('Judge', 'NNP'), ('Joseph', 'NNP'), ('Sam', 'NNP'), ('Perry', 'NNP'), ('in', 'IN'), ('federal', 'JJ'), ('District', 'NNP'), ('court', 'NN'), ('.', '.'), ('The', 'DT'), ('three', 'CD'), ('--', ':'), ('Miles', 'NNP'), ('J.', 'NNP'), ('Cooperman', 'NNP'), (',', ','), ('Sheldon', 'NNP'), ('Teller', 'NNP'), (',', ','), ('and', 'CC'), ('Richard', 'NNP'), ('Austin', 'NNP'), ('--', ':'), ('and', 'CC'), ('eight', 'CD'), ('other', 'JJ'), ('defendants', 'NNS'), ('are', 'VBP'), ('charged', 'VBN'), ('in', 'IN'), ('six', 'CD'), ('indictments', 'NNS'), ('with', 'IN'), ('conspiracy', 'NN'), ('to', 'TO'), ('violate', 'VB'), ('federal', 'JJ'), ('narcotic', 'JJ'), ('laws', 'NNS'), ('.', '.'), ('In', 'IN'), ('his', 'PRP$'), ('opening', 'NN'), ('statement', 'NN'), ('to', 'TO'), ('a', 'DT'), ('jury', 'NN'), ('of', 'IN'), ('eight', 'CD'), ('women', 'NNS'), ('and', 'CC'), ('four', 'CD'), ('men', 'NNS'), (',', ','), ('Bernard', 'NNP'), ('H.', 'NNP'), ('Sokol', 'NNP'), (',', ','), ('attorney', 'NN'), ('for', 'IN'), ('the', 'DT'), ('detectives', 'NNS'), (',', ','), ('said', 'VBD'), ('that', 'IN'), ('evidence', 'NN'), ('would', 'MD'), ('show', 'VB'), ('that', 'IN'), ('his', 'PRP$'), ('clients', 'NNS'), ('were', 'VBD'), ('``', '``'), ('entirely', 'RB'), ('innocent', 'JJ'), ('``', '``'), ('.', '.'), (\"'\", \"''\"), ('had', 'VBD'), ('to', 'TO'), ('know', 'VB'), ('peddlers', 'NNS'), (\"'\", 'POS'), ('``', '``'), ('When', 'WRB'), ('they', 'PRP'), ('became', 'VBD'), ('members', 'NNS'), ('of', 'IN'), ('the', 'DT'), ('city', 'NN'), ('police', 'NN'), ('narcotics', 'NNS'), ('unit', 'NN'), ('``', '``'), (',', ','), ('Sokol', 'NNP'), ('said', 'VBD'), (',', ','), ('``', '``'), ('they', 'PRP'), ('were', 'VBD'), ('told', 'VBN'), ('they', 'PRP'), ('would', 'MD'), ('have', 'VB'), ('to', 'TO'), ('get', 'VB'), ('to', 'TO'), ('know', 'VB'), ('certain', 'JJ'), ('areas', 'NNS'), ('of', 'IN'), ('Chicago', 'NNP'), ('in', 'IN'), ('which', 'WDT'), ('narcotics', 'NNS'), ('were', 'VBD'), ('sold', 'VBN'), ('and', 'CC'), ('they', 'PRP'), ('would', 'MD'), ('have', 'VB'), ('to', 'TO'), ('get', 'VB'), ('to', 'TO'), ('know', 'VB'), ('people', 'NNS'), ('in', 'IN'), ('the', 'DT'), ('narcotics', 'NNS'), ('racket', 'NN'), ('.', '.'), ('They', 'PRP'), (',', ','), ('on', 'IN'), ('occasion', 'NN'), (',', ','), ('posed', 'VBD'), ('as', 'IN'), ('addicts', 'NNS'), ('and', 'CC'), ('peddlers', 'NNS'), ('``', '``'), ('.', '.'), ('Although', 'IN'), ('federal', 'JJ'), ('and', 'CC'), ('city', 'NN'), ('narcotic', 'JJ'), ('agents', 'NNS'), ('sometimes', 'RB'), ('worked', 'VBD'), ('together', 'RB'), (',', ','), ('Sokol', 'NNP'), ('continued', 'VBD'), (',', ','), ('rivalries', 'NNS'), ('developed', 'VBD'), ('when', 'WRB'), ('they', 'PRP'), ('were', 'VBD'), ('``', '``'), ('aiming', 'VBG'), ('at', 'IN'), ('the', 'DT'), ('same', 'JJ'), ('criminals', 'NNS'), ('``', '``'), ('.', '.'), ('This', 'DT'), (',', ','), ('he', 'PRP'), ('added', 'VBD'), (',', ','), ('brought', 'VBD'), ('about', 'IN'), ('``', '``'), ('petty', 'JJ'), ('jealousies', 'NNS'), ('``', '``'), ('and', 'CC'), ('``', '``'), ('petty', 'JJ'), ('personal', 'JJ'), ('grievances', 'NNS'), ('``', '``'), ('.', '.'), ('``', '``'), ('In', 'IN'), ('the', 'DT'), ('same', 'JJ'), ('five', 'CD'), ('year', 'NN'), ('period', 'NN'), ('that', 'IN'), ('the', 'DT'), ('United', 'NNP'), ('States', 'NNPS'), ('says', 'VBZ'), ('they', 'PRP'), ('(', '('), ('the', 'DT'), ('detectives', 'NNS'), (')', ')'), ('were', 'VBD'), ('engaged', 'VBN'), ('in', 'IN'), ('this', 'DT'), ('conspiracy', 'NN'), ('``', '``'), (',', ','), ('Sokol', 'NNP'), ('continued', 'VBD'), (',', ','), ('``', '``'), ('these', 'DT'), ('three', 'CD'), ('young', 'JJ'), ('men', 'NNS'), ('received', 'VBD'), ('a', 'DT'), ('total', 'NN'), ('of', 'IN'), ('26', 'CD'), ('creditable', 'JJ'), ('mentions', 'NNS'), ('and', 'CC'), ('many', 'JJ'), ('special', 'JJ'), ('compensations', 'NNS'), (',', ','), ('and', 'CC'), ('were', 'VBD'), ('nominated', 'VBN'), ('for', 'IN'), ('the', 'DT'), ('Lambert', 'NNP'), ('Tree', 'NNP'), ('award', 'NN'), ('and', 'CC'), ('the', 'DT'), ('mayor', 'NN'), (\"'s\", 'POS'), ('medal', 'NN'), ('``', '``'), ('.', '.'), ('No', 'DT'), ('comments', 'NNS'), ('by', 'IN'), ('U.S', 'NNP'), ('.', '.'), ('In', 'IN'), ('opening', 'NN'), (',', ','), ('D.', 'NNP'), ('Arthur', 'NNP'), ('Connelly', 'NNP'), (',', ','), ('assistant', 'NN'), ('United', 'NNP'), ('States', 'NNPS'), ('attorney', 'NN'), (',', ','), ('read', 'VB'), ('the', 'DT'), ('indictment', 'NN'), (',', ','), ('but', 'CC'), ('made', 'VBD'), ('no', 'DT'), ('comments', 'NNS'), ('.', '.'), ('Attorneys', 'NNS'), ('for', 'IN'), ('the', 'DT'), ('eight', 'CD'), ('other', 'JJ'), ('defendants', 'NNS'), ('said', 'VBD'), ('only', 'RB'), ('that', 'IN'), ('there', 'EX'), ('was', 'VBD'), ('no', 'DT'), ('proof', 'NN'), ('of', 'IN'), ('their', 'PRP$'), ('clients', 'NNS'), (\"'\", 'POS'), ('guilt', 'NN'), ('.', '.'), ('Cooperman', 'NNP'), ('and', 'CC'), ('Teller', 'NNP'), ('are', 'VBP'), ('accused', 'VBN'), ('of', 'IN'), ('selling', 'VBG'), ('$', '$'), ('4,700', 'CD'), ('worth', 'NN'), ('of', 'IN'), ('heroin', 'NN'), ('to', 'TO'), ('a', 'DT'), ('convicted', 'VBN'), ('narcotics', 'NNS'), ('peddler', 'NN'), (',', ','), ('Otis', 'NNP'), ('Sears', 'NNP'), (',', ','), ('45', 'CD'), (',', ','), ('of', 'IN'), ('6934', 'CD'), ('Indiana', 'NNP'), ('Av', 'NNP'), ('.', '.'), ('.', '.'), ('Among', 'IN'), ('other', 'JJ'), ('acts', 'NNS'), (',', ','), ('Teller', 'NNP'), ('and', 'CC'), ('Austin', 'NNP'), ('are', 'VBP'), ('accused', 'VBN'), ('of', 'IN'), ('paying', 'VBG'), ('$', '$'), ('800', 'CD'), ('to', 'TO'), ('Sears', 'NNP'), ('.', '.'), ('The', 'DT'), ('first', 'JJ'), ('witness', 'NN'), (',', ','), ('Moses', 'NNP'), ('Winston', 'NNP'), ('Mardis', 'NNP'), (',', ','), ('5835', 'CD'), ('Michigan', 'NNP'), ('Av', 'NNP'), ('.', '.'), (',', ','), ('a', 'DT'), ('real', 'JJ'), ('estate', 'NN'), ('agent', 'NN'), ('and', 'CC'), ('former', 'JJ'), ('bail', 'NN'), ('bondsman', 'NN'), (',', ','), ('took', 'VBD'), ('the', 'DT'), ('stand', 'NN'), ('after', 'IN'), ('opening', 'VBG'), ('statements', 'NNS'), ('had', 'VBD'), ('been', 'VBN'), ('made', 'VBN'), ('.', '.'), ('But', 'CC'), ('court', 'NN'), ('adjourned', 'VBD'), ('after', 'IN'), ('he', 'PRP'), ('testified', 'VBD'), ('he', 'PRP'), ('introduced', 'VBD'), ('James', 'NNP'), ('White', 'NNP'), ('and', 'CC'), ('Jeremiah', 'NNP'), ('Hope', 'NNP'), ('Pullings', 'NNP'), (',', ','), ('two', 'CD'), ('of', 'IN'), ('the', 'DT'), ('defendants', 'NNS'), (',', ','), ('and', 'CC'), ('also', 'RB'), ('introduced', 'VBD'), ('Pullings', 'NNS'), ('to', 'TO'), ('Jessy', 'NNP'), ('Maroy', 'NNP'), (',', ','), ('a', 'DT'), ('man', 'NN'), ('mentioned', 'VBN'), ('in', 'IN'), ('the', 'DT'), ('indictment', 'NN'), ('but', 'CC'), ('not', 'RB'), ('indicted', 'VBN'), ('.', '.'), ('Buaford', 'NNP'), ('Robinson', 'NNP'), (',', ','), ('23', 'CD'), (',', ','), ('of', 'IN'), ('7026', 'CD'), ('Stewart', 'NNP'), ('Av', 'NNP'), ('.', '.'), (',', ','), ('a', 'DT'), ('CTA', 'NNP'), ('bus', 'NN'), ('driver', 'NN'), (',', ','), ('was', 'VBD'), ('slugged', 'VBN'), ('and', 'CC'), ('robbed', 'VBN'), ('last', 'JJ'), ('night', 'NN'), ('by', 'IN'), ('a', 'DT'), ('group', 'NN'), ('of', 'IN'), ('youths', 'NNS'), ('at', 'IN'), ('51st', 'CD'), ('Street', 'NNP'), ('and', 'CC'), ('South', 'NNP'), ('Park', 'NNP'), ('Way', 'NNP'), ('.', '.'), ('Robinson', 'NNP'), ('was', 'VBD'), ('treated', 'VBN'), ('at', 'IN'), ('a', 'DT'), ('physician', 'NN'), (\"'s\", 'POS'), ('office', 'NN'), ('for', 'IN'), ('a', 'DT'), ('cut', 'NN'), ('over', 'IN'), ('his', 'PRP$'), ('left', 'JJ'), ('eyebrow', 'NN'), ('and', 'CC'), ('a', 'DT'), ('possible', 'JJ'), ('sprained', 'JJ'), ('knee', 'NN'), ('.', '.'), ('His', 'PRP$'), ('losses', 'NNS'), ('included', 'VBD'), ('his', 'PRP$'), ('money', 'NN'), ('bag', 'NN'), (',', ','), ('containing', 'VBG'), ('$', '$'), ('40', 'CD'), ('to', 'TO'), ('$', '$'), ('50', 'CD'), ('and', 'CC'), ('his', 'PRP$'), ('$', '$'), ('214', 'CD'), ('paycheck', 'NN'), ('.', '.'), ('Robinson', 'NNP'), ('told', 'VBD'), ('Policemen', 'NNP'), ('James', 'NNP'), ('Jones', 'NNP'), ('and', 'CC'), ('Morgan', 'NNP'), ('Lloyd', 'NNP'), ('of', 'IN'), ('the', 'DT'), ('Wabash', 'NNP'), ('Avenue', 'NNP'), ('district', 'NN'), ('that', 'IN'), ('10', 'CD'), ('youths', 'NNS'), ('boarded', 'VBD'), ('his', 'PRP$'), ('south', 'NN'), ('bound', 'IN'), ('express', 'NN'), ('bus', 'NN'), ('in', 'IN'), ('front', 'NN'), ('of', 'IN'), ('Dunbar', 'NNP'), ('Vocational', 'NNP'), ('High', 'NNP'), ('School', 'NNP'), (',', ','), ('30th', 'CD'), ('Street', 'NNP'), ('and', 'CC'), ('South', 'NNP'), ('Park', 'NNP'), ('Way', 'NNP'), (',', ','), ('and', 'CC'), ('began', 'VBD'), ('``', '``'), ('skylarking', 'VBG'), ('``', '``'), ('.', '.'), ('When', 'WRB'), ('51st', 'CD'), ('Street', 'NNP'), ('was', 'VBD'), ('reached', 'VBN'), (',', ','), ('Robinson', 'NNP'), ('related', 'VBD'), (',', ','), ('he', 'PRP'), ('stopped', 'VBD'), ('the', 'DT'), ('bus', 'NN'), ('and', 'CC'), ('told', 'VBD'), ('the', 'DT'), ('youths', 'NNS'), ('he', 'PRP'), ('was', 'VBD'), ('going', 'VBG'), ('to', 'TO'), ('call', 'VB'), ('the', 'DT'), ('CTA', 'NNP'), ('supervisor', 'NN'), ('.', '.'), ('As', 'IN'), ('he', 'PRP'), ('left', 'VBD'), ('the', 'DT'), ('bus', 'NN'), ('with', 'IN'), ('his', 'PRP$'), ('money', 'NN'), ('bag', 'NN'), (',', ','), ('Robinson', 'NNP'), ('added', 'VBD'), (',', ','), ('the', 'DT'), ('largest', 'JJS'), ('youth', 'NN'), ('accosted', 'VBD'), ('him', 'PRP'), (',', ','), ('a', 'DT'), ('quarrel', 'NN'), ('ensued', 'VBN'), (',', ','), ('and', 'CC'), ('the', 'DT'), ('youth', 'NN'), ('knocked', 'VBD'), ('him', 'PRP'), ('down', 'RP'), ('.', '.'), ('Then', 'RB'), ('the', 'DT'), ('youths', 'NNS'), ('fled', 'VBN'), ('with', 'IN'), ('his', 'PRP$'), ('money', 'NN'), ('.', '.'), ('Mrs.', 'NNP'), ('Blanche', 'NNP'), ('Dunkel', 'NNP'), (',', ','), ('60', 'CD'), (',', ','), ('who', 'WP'), ('has', 'VBZ'), ('spent', 'VBN'), ('25', 'CD'), ('years', 'NNS'), ('in', 'IN'), ('the', 'DT'), ('Dwight', 'NNP'), ('reformatory', 'NN'), ('for', 'IN'), ('women', 'NNS'), ('for', 'IN'), ('the', 'DT'), ('murder', 'NN'), ('in', 'IN'), ('1935', 'CD'), ('of', 'IN'), ('her', 'PRP$'), ('son-in-law', 'NN'), (',', ','), ('Ervin', 'NNP'), ('Lang', 'NNP'), (',', ','), ('then', 'RB'), ('28', 'CD'), (',', ','), ('appealed', 'VBD'), ('for', 'IN'), ('a', 'DT'), ('parole', 'NN'), ('at', 'IN'), ('a', 'DT'), ('hearing', 'NN'), ('yesterday', 'NN'), ('before', 'IN'), ('two', 'CD'), ('Illinois', 'NNP'), ('pardon', 'NNS'), ('and', 'CC'), ('parole', 'JJ'), ('board', 'NN'), ('members', 'NNS'), (',', ','), ('John', 'NNP'), ('M.', 'NNP'), ('Bookwalter', 'NNP'), ('and', 'CC'), ('Joseph', 'NNP'), ('Carpentier', 'NNP'), ('.', '.'), ('She', 'PRP'), ('had', 'VBD'), ('been', 'VBN'), ('sentenced', 'VBN'), ('to', 'TO'), ('180', 'CD'), ('years', 'NNS'), ('in', 'IN'), ('prison', 'NN'), (',', ','), ('but', 'CC'), ('former', 'JJ'), ('Gov', 'NNP'), ('.', '.'), ('Stratton', 'NNP'), ('commuted', 'VBD'), ('her', 'PRP$'), ('term', 'NN'), ('to', 'TO'), ('75', 'CD'), ('years', 'NNS'), (',', ','), ('making', 'VBG'), ('her', 'PRP$'), ('eligible', 'JJ'), ('for', 'IN'), ('parole', 'NN'), (',', ','), ('as', 'IN'), ('one', 'CD'), ('of', 'IN'), ('his', 'PRP$'), ('last', 'JJ'), ('acts', 'NNS'), ('in', 'IN'), ('office', 'NN'), ('.', '.'), ('Mrs.', 'NNP'), ('Dunkel', 'NNP'), ('admitted', 'VBD'), ('the', 'DT'), ('slaying', 'NN'), ('and', 'CC'), ('said', 'VBD'), ('that', 'IN'), ('the', 'DT'), ('son-in-law', 'NN'), ('became', 'VBD'), ('her', 'PRP$'), ('lover', 'NN'), ('after', 'IN'), ('the', 'DT'), ('death', 'NN'), ('of', 'IN'), ('her', 'PRP$'), ('daughter', 'NN'), ('in', 'IN'), ('1934', 'CD'), ('.', '.'), ('It', 'PRP'), ('was', 'VBD'), ('when', 'WRB'), ('he', 'PRP'), ('attempted', 'VBD'), ('to', 'TO'), ('end', 'VB'), ('the', 'DT'), ('relationship', 'NN'), ('that', 'IN'), ('the', 'DT'), ('murder', 'NN'), ('took', 'VBD'), ('place', 'NN'), ('.', '.'), ('The', 'DT'), ('son', 'NN'), ('of', 'IN'), ('a', 'DT'), ('wealthy', 'JJ'), ('Evanston', 'NNP'), ('executive', 'NN'), ('was', 'VBD'), ('fined', 'VBN'), ('$', '$'), ('100', 'CD'), ('yesterday', 'NN'), ('and', 'CC'), ('forbidden', 'NN'), ('to', 'TO'), ('drive', 'VB'), ('for', 'IN'), ('60', 'CD'), ('days', 'NNS'), ('for', 'IN'), ('leading', 'VBG'), ('an', 'DT'), ('Evanston', 'NNP'), ('policeman', 'NN'), ('on', 'IN'), ('a', 'DT'), ('high', 'JJ'), ('speed', 'NN'), ('chase', 'NN'), ('over', 'IN'), ('icy', 'NN'), ('Evanston', 'NNP'), ('and', 'CC'), ('Wilmette', 'NNP'), ('streets', 'NNS'), ('Jan.', 'NNP'), ('20', 'CD'), ('.', '.'), ('The', 'DT'), ('defendant', 'NN'), (',', ','), ('William', 'NNP'), ('L.', 'NNP'), ('Stickney', 'NNP'), ('3', 'CD'), (',', ','), ('23', 'CD'), (',', ','), ('of', 'IN'), ('3211', 'CD'), ('Park', 'NNP'), ('pl', 'NN'), ('.', '.'), (',', ','), ('Evanston', 'NNP'), (',', ','), ('who', 'WP'), ('pleaded', 'VBD'), ('guilty', 'JJ'), ('to', 'TO'), ('reckless', 'VB'), ('driving', 'NN'), (',', ','), ('also', 'RB'), ('was', 'VBD'), ('ordered', 'VBN'), ('by', 'IN'), ('Judge', 'NNP'), ('James', 'NNP'), ('Corcoran', 'NNP'), ('to', 'TO'), ('attend', 'VB'), ('the', 'DT'), ('Evanston', 'NNP'), ('traffic', 'NN'), ('school', 'NN'), ('each', 'DT'), ('Tuesday', 'NNP'), ('night', 'NN'), ('for', 'IN'), ('one', 'CD'), ('month', 'NN'), ('.', '.'), ('Stickney', 'NNP'), ('is', 'VBZ'), ('a', 'DT'), ('salesman', 'NN'), ('for', 'IN'), ('Plee-Zing', 'NNP'), (',', ','), ('Inc.', 'NNP'), (',', ','), ('2544', 'CD'), ('Green', 'NNP'), ('Bay', 'NNP'), ('Rd', 'NNP'), ('.', '.'), (',', ','), ('Evanston', 'NNP'), (',', ','), ('a', 'DT'), ('food', 'NN'), ('brokerage', 'NN'), ('and', 'CC'), ('grocery', 'NN'), ('chain', 'NN'), ('firm', 'NN'), (',', ','), ('of', 'IN'), ('which', 'WDT'), ('his', 'PRP$'), ('father', 'NN'), (',', ','), ('William', 'NNP'), ('L.', 'NNP'), ('Jr.', 'NNP'), (',', ','), ('is', 'VBZ'), ('president', 'NN'), ('.', '.'), ('Patrolman', 'NNP'), ('James', 'NNP'), ('F.', 'NNP'), ('Simms', 'NNP'), ('said', 'VBD'), ('he', 'PRP'), ('started', 'VBD'), ('in', 'IN'), ('pursuit', 'NN'), ('when', 'WRB'), ('he', 'PRP'), ('saw', 'VBD'), ('young', 'JJ'), ('Stickney', 'NNP'), ('speeding', 'VBG'), ('north', 'NN'), ('in', 'IN'), ('Stewart', 'NNP'), ('Avenue', 'NNP'), ('at', 'IN'), ('Central', 'NNP'), ('Street', 'NNP'), ('.', '.'), ('At', 'IN'), ('Jenks', 'NNP'), ('Street', 'NNP'), (',', ','), ('Simms', 'NNP'), ('said', 'VBD'), (',', ','), ('the', 'DT'), ('car', 'NN'), ('skidded', 'VBD'), ('completely', 'RB'), ('around', 'IN'), (',', ','), ('just', 'RB'), ('missed', 'VBN'), ('two', 'CD'), ('parked', 'JJ'), ('cars', 'NNS'), (',', ','), ('and', 'CC'), ('sped', 'VBD'), ('east', 'NNS'), ('in', 'IN'), ('Jenks', 'NNP'), ('.', '.'), ('The', 'DT'), ('car', 'NN'), ('spun', 'NN'), ('around', 'RB'), ('again', 'RB'), (',', ','), ('Simms', 'NNP'), ('said', 'VBD'), (',', ','), ('before', 'IN'), ('Stickney', 'NNP'), ('could', 'MD'), ('turn', 'VB'), ('north', 'JJ'), ('in', 'IN'), ('Prairie', 'NNP'), ('Avenue', 'NNP'), (',', ','), ('and', 'CC'), ('then', 'RB'), ('violated', 'VBD'), ('two', 'CD'), ('stop', 'JJ'), ('lights', 'NNS'), ('as', 'IN'), ('he', 'PRP'), ('traveled', 'VBD'), ('north', 'RB'), ('into', 'IN'), ('Wilmette', 'NNP'), ('in', 'IN'), ('Prairie', 'NNP'), ('.', '.')]\n"
     ]
    }
   ],
   "source": [
    "#POS tagging\n",
    "str1 = string\n",
    "\n",
    "tokenizeds=nltk.word_tokenize(str1)\n",
    "print(tokenizeds)\n",
    "\n",
    "tagged = nltk.pos_tag(tokenizeds)\n",
    "print(tagged)"
   ]
  },
  {
   "cell_type": "code",
   "execution_count": 17,
   "metadata": {},
   "outputs": [
    {
     "name": "stdout",
     "output_type": "stream",
     "text": [
      "Orignal Sentence: London , Feb. 9 -- Vital secrets of Britain's first atomic submarine , the Dreadnought , and , by implication , of the entire United States navy's still-building nuclear sub fleet , were stolen by a London-based soviet spy ring , secret service agents testified today . The Dreadnought was built on designs supplied by the United States in 1959 and was launched last year . It is a killer sub -- that is , a hunter of enemy subs . It has a hull patterned on that of the United States navy's Nautilus , the world's first atomic submarine . Its power unit , however , was derived from the reactor of the more modern American nuclear submarine Skipjack . Five held for trial The announcement that the secrets of the Dreadnought had been stolen was made in Bow St. police court here at the end of a three day hearing . A full trial was ordered for : Two British civil servants , Miss Ethel Gee , 46 , and her newly devoted friend , Harry Houghton , 55 , and divorced . They are accused of whisking secrets out of naval strongrooms over which they kept guard . Gordon A. Lonsdale , 37 , a mystery man presumed to be Russian although he carries a Canadian passport . When arrested , he had the submarine secrets on a roll of candid camera film as well as anti-submarine secrets in Christmas gift wrapping , it was testified . Flashed to Moscow A shadowy couple who call themselves Peter Kroger , bookseller , and wife , Joyce . ( In Washington , the Federal Bureau of Investigation identified the Krogers as Morris and Lola Cohen , an American couple formerly of New York City ) . In their suburban cottage the crown charges , the Krogers received secrets from the mystery man , usually on the first Saturday evening of each month , and spent much of the week-end getting the secrets off to Moscow , either on a powerful transmitter buried under the kitchen floor or as dots posted over period marks in used books . Each dot on magnification resumed its original condition as a drawing , a printed page , or a manuscript . All five pleaded innocent . Only Miss Gee asked for bail . Her young British lawyer , James Dunlop , pleaded that she was sorely needed at her Portland home by her widowed mother , 80 , her maiden aunt , also 80 and bedridden for 20 years , and her uncle , 76 , who once ran a candy shop . Refuses to grant bail `` I am not prepared to grant bail to any of them '' , said the magistrate , K.J.P. Baraclough . The trial will be held , probably the first week of March , in the famous Old Bailey central criminal court where Klaus Fuchs , the naturalized British German born scientist who succeeded in giving American and British atomic bomb secrets to Russia and thereby changed world history during the 1950s , was sentenced to 14 years in prison . Fourteen years is the maximum penalty now faced by the new five , who may have altered history in the 1960s . Fuchs , after nine and a half years , was released , being given time off for good behavior . He promptly went to communist East Germany . The magistrate tonight refused to return to the five $29,000 in American and British currency , mostly $20 bills , and in British government bonds and stocks . `` This is Russian money '' , said Mervin Griffith-Jones for the attorney general's office . He asserted that the Krogers were the bankers for Moscow , Lonsdale the Red paymaster , and the two civil servants the recipients for selling their country's secrets . `` Of highest value '' The fact that secrets of the Dreadnought , and thereby of the American undersea fleet , were involved in the spy case had been hinted at earlier . But just before luncheon today the fact was announced grimly by the British navy's chief adviser to the cabinet on underwater warfare , Capt. George Symonds . He said that drawings of the Dreadnought and printed details about the ship were found reproduced in an undeveloped roll of film taken from Lonsdale when he was arrested with the two civil servants outside the Old Vic theater Saturday afternoon , Jan. 7 . The information , he said , would have been of the highest value to a potential enemy . Court cleared Just how many sub secrets were being handed over when the ring , watched for six months , was broken remained untold . The British defending lawyers , who today increased from three to four , demanded to know if they could make the information involved seem of little value to a jury , the chances of their clients would improve . So in the name of justice the magistrate cleared the court of all except officials to allow the captain to elaborate for almost an hour . Almost any information about the Dreadnought would also reveal secrets about the American underwater fleet . Britain began designing the ship in 1956 but got nowhere until the American government decided to end a ban on sharing military secrets with Britain that had been imposed after Fuchs blabbed . The United States offered to supply a complete set of propelling equipment like that used in the Skipjack . With the machinery went a complete design for the hull . The Skipjack was a second generation atomic sub , much advanced on the Nautilus and the other four which preceded it . Navy's future involved `` Much of the navy's future depends upon her '' , an American naval announcement said on the Skipjack's first arrival in British waters in August , 1959 , for exhibition to selected high officers at Portland underwater research station . It was there that the two accused civil servants were at work . `` Her basic hull form ( a teardrop ) and her nuclear power plant will be used for almost all new submarines , including the potent Polaris missile submarines '' , the statement went on . The atom reactor , water cooled , was the result of almost a decade of research at the naval reactors branch of the atomic energy commission and Westinghouse Electric Corp. . Thru development , the reactor and its steam turbines had been reduced greatly in size , and also in complexity , allowing a single propeller to be used , the navy said . The hull was also a result of almost a decade of work . It was first tried out on a conventional submarine , the Albacore , in 1954 . The Skipjack became the fastest submarine ever built . Reputedly it could outrun , underwater , the fastest destroyers . It could , reputedly , go 70,000 miles without refueling and stay down more than a month . It was of the hunter-killer type , designed to seek out ships and other submarines with its most advanced gear and destroy them with torpedoes . The navy captain disclosed also that a list of questions found in Miss Gee's purse would , if completed and handed back , have given the Kremlin a complete picture `` of our current anti-submarine effort and would have shown what we are doing in research and development for the future '' . Interested in detector The spy ring also was particularly interested in ASDIC , the underwater equipment for detecting submarines , it was testified . Range was a vital detail . Designs of parts were sought . Six radiomen told how , twice on two days after the ring was nabbed , a transmitter near Moscow was heard calling , using signals , times and wavelengths specified on codes found hidden in cigaret lighters in Lonsdale's apartment and the Krogers' house and also fastened to the transmitter lid . Oddly , the calls were still heard 11 days after the five were arrested . The charge that the federal indictment of three Chicago narcotics detail detectives `` is the product of rumor , combined with malice , and individual enmity '' on the part of the federal narcotics unit here was made yesterday in their conspiracy trial before Judge Joseph Sam Perry in federal District court . The three -- Miles J. Cooperman , Sheldon Teller , and Richard Austin -- and eight other defendants are charged in six indictments with conspiracy to violate federal narcotic laws . In his opening statement to a jury of eight women and four men , Bernard H. Sokol , attorney for the detectives , said that evidence would show that his clients were `` entirely innocent '' . ' had to know peddlers ' `` When they became members of the city police narcotics unit '' , Sokol said , `` they were told they would have to get to know certain areas of Chicago in which narcotics were sold and they would have to get to know people in the narcotics racket . They , on occasion , posed as addicts and peddlers '' . Although federal and city narcotic agents sometimes worked together , Sokol continued , rivalries developed when they were `` aiming at the same criminals '' . This , he added , brought about `` petty jealousies '' and `` petty personal grievances '' . `` In the same five year period that the United States says they ( the detectives ) were engaged in this conspiracy '' , Sokol continued , `` these three young men received a total of 26 creditable mentions and many special compensations , and were nominated for the Lambert Tree award and the mayor's medal '' . No comments by U.S. In opening , D. Arthur Connelly , assistant United States attorney , read the indictment , but made no comments . Attorneys for the eight other defendants said only that there was no proof of their clients' guilt . Cooperman and Teller are accused of selling $4,700 worth of heroin to a convicted narcotics peddler , Otis Sears , 45 , of 6934 Indiana Av. . Among other acts , Teller and Austin are accused of paying $800 to Sears . The first witness , Moses Winston Mardis , 5835 Michigan Av. , a real estate agent and former bail bondsman , took the stand after opening statements had been made . But court adjourned after he testified he introduced James White and Jeremiah Hope Pullings , two of the defendants , and also introduced Pullings to Jessy Maroy , a man mentioned in the indictment but not indicted . Buaford Robinson , 23 , of 7026 Stewart Av. , a CTA bus driver , was slugged and robbed last night by a group of youths at 51st Street and South Park Way . Robinson was treated at a physician's office for a cut over his left eyebrow and a possible sprained knee . His losses included his money bag , containing $40 to $50 and his $214 paycheck . Robinson told Policemen James Jones and Morgan Lloyd of the Wabash Avenue district that 10 youths boarded his south bound express bus in front of Dunbar Vocational High School , 30th Street and South Park Way , and began `` skylarking '' . When 51st Street was reached , Robinson related , he stopped the bus and told the youths he was going to call the CTA supervisor . As he left the bus with his money bag , Robinson added , the largest youth accosted him , a quarrel ensued , and the youth knocked him down . Then the youths fled with his money . Mrs. Blanche Dunkel , 60 , who has spent 25 years in the Dwight reformatory for women for the murder in 1935 of her son-in-law , Ervin Lang , then 28 , appealed for a parole at a hearing yesterday before two Illinois pardon and parole board members , John M. Bookwalter and Joseph Carpentier . She had been sentenced to 180 years in prison , but former Gov. Stratton commuted her term to 75 years , making her eligible for parole , as one of his last acts in office . Mrs. Dunkel admitted the slaying and said that the son-in-law became her lover after the death of her daughter in 1934 . It was when he attempted to end the relationship that the murder took place . The son of a wealthy Evanston executive was fined $100 yesterday and forbidden to drive for 60 days for leading an Evanston policeman on a high speed chase over icy Evanston and Wilmette streets Jan. 20 . The defendant , William L. Stickney 3 , 23 , of 3211 Park pl. , Evanston , who pleaded guilty to reckless driving , also was ordered by Judge James Corcoran to attend the Evanston traffic school each Tuesday night for one month . Stickney is a salesman for Plee-Zing , Inc. , 2544 Green Bay Rd. , Evanston , a food brokerage and grocery chain firm , of which his father , William L. Jr. , is president . Patrolman James F. Simms said he started in pursuit when he saw young Stickney speeding north in Stewart Avenue at Central Street . At Jenks Street , Simms said , the car skidded completely around , just missed two parked cars , and sped east in Jenks . The car spun around again , Simms said , before Stickney could turn north in Prairie Avenue , and then violated two stop lights as he traveled north into Wilmette in Prairie .\n",
      "\n",
      "\n",
      "Stemmed Sentence:\n",
      "london , feb. 9 -- vit secret of britain's first atom submarin , the dreadnought , and , by imply , of the entir unit stat navy's still-building nuclear sub fleet , wer stol by a london-based soviet spy ring , secret serv ag test today . the dreadnought was built on design supply by the unit stat in 1959 and was launch last year . it is a kil sub -- that is , a hunt of enemy sub . it has a hul pattern on that of the unit stat navy's nautil , the world's first atom submarin . it pow unit , howev , was der from the react of the mor modern am nuclear submarin skipjack . fiv held for tri the annount that the secret of the dreadnought had been stol was mad in bow st. pol court her at the end of a three day hear . a ful tri was ord for : two brit civil serv , miss ethel gee , 46 , and her new devot friend , harry houghton , 55 , and divorc . they ar accus of whisk secret out of nav strongrooms ov which they kept guard . gordon a. lonsd , 37 , a mystery man presum to be russ although he carry a canad passport . when arrest , he had the submarin secret on a rol of candid camer film as wel as anti-submarine secret in christmas gift wrap , it was test . flash to moscow a shadowy coupl who cal themselv pet krog , booksel , and wif , joyc . ( in washington , the fed bureau of investig ident the krog as mor and lol coh , an am coupl form of new york city ) . in their suburb cot the crown charg , the krog receiv secret from the mystery man , us on the first saturday ev of each mon , and spent much of the week-end get the secret off to moscow , eith on a pow transmit bury und the kitch flo or as dot post ov period mark in us book . each dot on magn resum it origin condit as a draw , a print pag , or a manuscrib . al fiv plead innoc . on miss gee ask for bail . her young brit lawy , jam dunlop , plead that she was sor nee at her portland hom by her widow moth , 80 , her maid aunt , also 80 and bedrid for 20 year , and her unc , 76 , who ont ran a candy shop . refus to grant bail `` i am not prep to grant bail to any of them '' , said the mag , k.j.p. baraclough . the tri wil be held , prob the first week of march , in the fam old bailey cent crimin court wher kla fuch , the nat brit germ born sci who success in giv am and brit atom bomb secret to russ and thereby chang world hist dur the 1950s , was sent to 14 year in prison . fourteen year is the maxim penal now fac by the new fiv , who may hav alt hist in the 1960s . fuch , aft nin and a half year , was releas , being giv tim off for good behavy . he prompt went to commun east germany . the mag tonight refus to return to the fiv $29,000 in am and brit cur , most $20 bil , and in brit govern bond and stock . `` thi is russ money '' , said mervin griffith-jones for the attorney general's off . he assert that the krog wer the bank for moscow , lonsd the red paymast , and the two civil serv the recipy for sel their country's secret . `` of highest valu '' the fact that secret of the dreadnought , and thereby of the am underse fleet , wer involv in the spy cas had been hint at ear . but just bef luncheon today the fact was annount grim by the brit navy's chief adv to the cabinet on underw warf , capt. georg symond . he said that draw of the dreadnought and print detail about the ship wer found reproduc in an undevelop rol of film tak from lonsd when he was arrest with the two civil serv outsid the old vic the saturday afternoon , jan. 7 . the inform , he said , would hav been of the highest valu to a pot enemy . court clear just how many sub secret wer being hand ov when the ring , watch for six month , was brok remain untold . the brit defend lawy , who today increas from three to four , demand to know if they could mak the inform involv seem of littl valu to a jury , the chant of their cli would improv . so in the nam of just the mag clear the court of al exceiv off to allow the captain to elab for almost an hour . almost any inform about the dreadnought would also rev secret about the am underw fleet . britain beg design the ship in 1956 but got nowh until the am govern decid to end a ban on shar milit secret with britain that had been impos aft fuch blab . the unit stat off to supply a complet set of propel equip lik that us in the skipjack . with the machinery went a complet design for the hul . the skipjack was a second gen atom sub , much adv on the nautil and the oth four which prec it . navy's fut involv `` much of the navy's fut depend upon her '' , an am nav annount said on the skipjack's first ar in brit wat in august , 1959 , for exhibit to select high off at portland underw research stat . it was ther that the two accus civil serv wer at work . `` her bas hul form ( a teardrop ) and her nuclear pow plant wil be us for almost al new submarin , includ the pot pol missil submarin '' , the stat went on . the atom react , wat cool , was the result of almost a decad of research at the nav react branch of the atom energy commit and westingh elect corp. . thru develop , the react and it steam turbin had been reduc gre in siz , and also in complex , allow a singl propel to be us , the navy said . the hul was also a result of almost a decad of work . it was first tri out on a conv submarin , the albac , in 1954 . the skipjack becam the fastest submarin ev built . reput it could outrun , underw , the fastest destroy . it could , reput , go 70,000 mil without refuel and stay down mor than a mon . it was of the hunter-kill typ , design to seek out ship and oth submarin with it most adv gear and destroy them with torpedo . the navy captain disclos also that a list of quest found in miss gee's purs would , if complet and hand back , hav giv the kremlin a complet pict `` of our cur anti-submarine effort and would hav shown what we ar doing in research and develop for the fut '' . interest in detect the spy ring also was particul interest in asd , the underw equip for detect submarin , it was test . rang was a vit detail . design of part wer sought . six radiom told how , twic on two day aft the ring was nab , a transmit near moscow was heard cal , us sign , tim and wavelength spec on cod found hid in cigaret light in lonsdale's apart and the krogers' hous and also fast to the transmit lid . od , the cal wer stil heard 11 day aft the fiv wer arrest . the charg that the fed indict of three chicago narcot detail detect `` is the produc of rum , combin with mal , and individ enm '' on the part of the fed narcot unit her was mad yesterday in their conspir tri bef judg joseph sam perry in fed district court . the three -- mil j. cooperm , sheldon tel , and richard austin -- and eight oth defend ar charg in six indict with conspir to viol fed narcot law . in his op stat to a jury of eight wom and four men , bernard h. sokol , attorney for the detect , said that evid would show that his cli wer `` entir innoc '' . ' had to know peddl ' `` when they becam memb of the city pol narcot unit '' , sokol said , `` they wer told they would hav to get to know certain area of chicago in which narcot wer sold and they would hav to get to know peopl in the narcot racket . they , on occas , pos as addict and peddl '' . although fed and city narcot ag sometim work togeth , sokol continu , rivalry develop when they wer `` aim at the sam crimin '' . thi , he ad , brought about `` petty jealousy '' and `` petty person griev '' . `` in the sam fiv year period that the unit stat say they ( the detect ) wer eng in thi conspir '' , sokol continu , `` thes three young men receiv a tot of 26 credit ment and many spec compens , and wer nomin for the lambert tre award and the mayor's med '' . no com by u.s. in op , d. arth connel , assist unit stat attorney , read the indict , but mad no com . attorney for the eight oth defend said on that ther was no proof of their clients' guilt . cooperm and tel ar accus of sel $4,700 wor of heroin to a convict narcot peddl , ot sear , 45 , of 6934 indian av. . among oth act , tel and austin ar accus of pay $800 to sear . the first wit , mos winston mard , 5835 michig av. , a real est ag and form bail bondsm , took the stand aft op stat had been mad . but court adjourn aft he test he introduc jam whit and jeremiah hop pul , two of the defend , and also introduc pul to jessy maroy , a man ment in the indict but not indict . buaford robinson , 23 , of 7026 stewart av. , a cta bus driv , was slug and rob last night by a group of youth at 51st street and sou park way . robinson was tre at a physician's off for a cut ov his left eyebrow and a poss sprained kne . his loss includ his money bag , contain $40 to $50 and his $214 paycheck . robinson told policem jam jon and morg lloyd of the wabash avenu district that 10 youth board his sou bound express bus in front of dunb voc high school , 30th street and sou park way , and beg `` skylark '' . when 51st street was reach , robinson rel , he stop the bus and told the youth he was going to cal the cta superv . as he left the bus with his money bag , robinson ad , the largest you accost him , a quarrel ensu , and the you knock him down . then the youth fled with his money . mrs. blanch dunkel , 60 , who has spent 25 year in the dwight reform for wom for the murd in 1935 of her son-in-law , ervin lang , then 28 , ap for a parol at a hear yesterday bef two illino pardon and parol board memb , john m. bookwalt and joseph carpenty . she had been sent to 180 year in prison , but form gov. stratton commut her term to 75 year , mak her elig for parol , as on of his last act in off . mrs. dunkel admit the slay and said that the son-in-law becam her lov aft the dea of her daught in 1934 . it was when he attempt to end the rel that the murd took plac . the son of a wealthy evanston execut was fin $100 yesterday and forbid to driv for 60 day for lead an evanston policem on a high spee chas ov icy evanston and wilmet streets jan. 20 . the defend , william l. stickney 3 , 23 , of 3211 park pl. , evanston , who plead guil to reckless driv , also was ord by judg jam corc to attend the evanston traff school each tuesday night for on mon . stickney is a salesm for plee-zing , inc. , 2544 green bay rd. , evanston , a food brok and grocery chain firm , of which his fath , william l. jr. , is presid . patrolm jam f. sim said he start in pursuit when he saw young stickney spee nor in stewart avenu at cent street . at jenk street , sim said , the car skid complet around , just miss two park car , and sped east in jenk . the car spun around again , sim said , bef stickney could turn nor in prairy avenu , and then viol two stop light as he travel nor into wilmet in prairy .\n"
     ]
    }
   ],
   "source": [
    "#Stemming\n",
    "from nltk.stem import LancasterStemmer\n",
    "lancaster=LancasterStemmer()\n",
    "print(\"Orignal Sentence:\",str1)\n",
    "print(\"\\n\")\n",
    "\n",
    "str1 = [lancaster.stem(token) for token in str1.split(\" \")]\n",
    "print(\"Stemmed Sentence:\")\n",
    "print(\" \".join(str1))"
   ]
  },
  {
   "cell_type": "code",
   "execution_count": null,
   "metadata": {},
   "outputs": [],
   "source": []
  }
 ],
 "metadata": {
  "kernelspec": {
   "display_name": "Python 3",
   "language": "python",
   "name": "python3"
  },
  "language_info": {
   "codemirror_mode": {
    "name": "ipython",
    "version": 3
   },
   "file_extension": ".py",
   "mimetype": "text/x-python",
   "name": "python",
   "nbconvert_exporter": "python",
   "pygments_lexer": "ipython3",
   "version": "3.7.6"
  }
 },
 "nbformat": 4,
 "nbformat_minor": 4
}
